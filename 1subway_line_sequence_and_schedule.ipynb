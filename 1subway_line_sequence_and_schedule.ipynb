{
 "cells": [
  {
   "cell_type": "code",
   "execution_count": 1,
   "metadata": {
    "collapsed": true
   },
   "outputs": [],
   "source": [
    "import pandas as pd\n",
    "import datetime as dt\n",
    "import urllib\n",
    "import zipfile\n",
    "import re"
   ]
  },
  {
   "cell_type": "markdown",
   "metadata": {},
   "source": [
    "## DOWNLOAD AND UNZIP DATA"
   ]
  },
  {
   "cell_type": "code",
   "execution_count": 4,
   "metadata": {
    "collapsed": false
   },
   "outputs": [
    {
     "data": {
      "text/plain": [
       "('GTFS_nyc_Subway.zip', <httplib.HTTPMessage instance at 0x10c443170>)"
      ]
     },
     "execution_count": 4,
     "metadata": {},
     "output_type": "execute_result"
    }
   ],
   "source": [
    "url = 'http://web.mta.info/developers/data/nyct/subway/google_transit.zip'\n",
    "urllib.urlretrieve (url, \"GTFS_nyc_Subway.zip\")"
   ]
  },
  {
   "cell_type": "code",
   "execution_count": 6,
   "metadata": {
    "collapsed": true
   },
   "outputs": [],
   "source": [
    "zip_ref = zipfile.ZipFile(\"GTFS_nyc_Subway.zip\", 'r')\n",
    "zip_ref.extractall(\"GTFS_nyc_Subway\")\n",
    "zip_ref.close()"
   ]
  },
  {
   "cell_type": "markdown",
   "metadata": {},
   "source": [
    "## GET STOPS SEQUENCE ALONG EACH LINE"
   ]
  },
  {
   "cell_type": "code",
   "execution_count": 3,
   "metadata": {
    "collapsed": true
   },
   "outputs": [],
   "source": [
    "# A20170625SUN_001150_7..S97R\n",
    "## A20170625SUN means the service by Sunday Schedule\n",
    "## 001150 is id for the trip, form the 1st stop to last stop, next round would be different id\n",
    "## 7..S97R means 7 train would run South bound,\n",
    "## stop at S97R route ( set of stops of local train and express train are different)\n",
    "stop_times = pd.read_csv('GTFS_nyc_Subway/stop_times.txt')\n",
    "\n",
    "stop_times['service_id']=stop_times['trip_id'].apply(lambda x: x.split('_')[0])\n",
    "stop_times['sub_trip_id']=stop_times['trip_id'].apply(lambda x: x.split('_')[1])\n",
    "stop_times['train+direction']=stop_times['trip_id'].apply(lambda x: x.split('_')[2])\n",
    "del stop_times['stop_headsign']\n",
    "del stop_times['pickup_type']\n",
    "del stop_times['drop_off_type']\n",
    "del stop_times['shape_dist_traveled']\n",
    "stop_times['train'] = stop_times['train+direction'].apply(lambda x: x.split('.')[0])\n",
    "stop_times['day'] = stop_times['service_id'].apply(lambda x: x[-3:])"
   ]
  },
  {
   "cell_type": "code",
   "execution_count": 4,
   "metadata": {
    "collapsed": false
   },
   "outputs": [
    {
     "data": {
      "text/html": [
       "<div>\n",
       "<style>\n",
       "    .dataframe thead tr:only-child th {\n",
       "        text-align: right;\n",
       "    }\n",
       "\n",
       "    .dataframe thead th {\n",
       "        text-align: left;\n",
       "    }\n",
       "\n",
       "    .dataframe tbody tr th {\n",
       "        vertical-align: top;\n",
       "    }\n",
       "</style>\n",
       "<table border=\"1\" class=\"dataframe\">\n",
       "  <thead>\n",
       "    <tr style=\"text-align: right;\">\n",
       "      <th></th>\n",
       "      <th>trip_id</th>\n",
       "      <th>arrival_time</th>\n",
       "      <th>departure_time</th>\n",
       "      <th>stop_id</th>\n",
       "      <th>stop_sequence</th>\n",
       "      <th>service_id</th>\n",
       "      <th>sub_trip_id</th>\n",
       "      <th>train+direction</th>\n",
       "      <th>train</th>\n",
       "      <th>day</th>\n",
       "    </tr>\n",
       "  </thead>\n",
       "  <tbody>\n",
       "    <tr>\n",
       "      <th>0</th>\n",
       "      <td>A20170625SUN_001150_7..S97R</td>\n",
       "      <td>00:11:30</td>\n",
       "      <td>00:11:30</td>\n",
       "      <td>701S</td>\n",
       "      <td>1</td>\n",
       "      <td>A20170625SUN</td>\n",
       "      <td>001150</td>\n",
       "      <td>7..S97R</td>\n",
       "      <td>7</td>\n",
       "      <td>SUN</td>\n",
       "    </tr>\n",
       "    <tr>\n",
       "      <th>1</th>\n",
       "      <td>A20170625SUN_001150_7..S97R</td>\n",
       "      <td>00:14:00</td>\n",
       "      <td>00:14:00</td>\n",
       "      <td>702S</td>\n",
       "      <td>2</td>\n",
       "      <td>A20170625SUN</td>\n",
       "      <td>001150</td>\n",
       "      <td>7..S97R</td>\n",
       "      <td>7</td>\n",
       "      <td>SUN</td>\n",
       "    </tr>\n",
       "    <tr>\n",
       "      <th>2</th>\n",
       "      <td>A20170625SUN_001150_7..S97R</td>\n",
       "      <td>00:15:30</td>\n",
       "      <td>00:15:30</td>\n",
       "      <td>705S</td>\n",
       "      <td>3</td>\n",
       "      <td>A20170625SUN</td>\n",
       "      <td>001150</td>\n",
       "      <td>7..S97R</td>\n",
       "      <td>7</td>\n",
       "      <td>SUN</td>\n",
       "    </tr>\n",
       "    <tr>\n",
       "      <th>3</th>\n",
       "      <td>A20170625SUN_001150_7..S97R</td>\n",
       "      <td>00:16:30</td>\n",
       "      <td>00:16:30</td>\n",
       "      <td>706S</td>\n",
       "      <td>4</td>\n",
       "      <td>A20170625SUN</td>\n",
       "      <td>001150</td>\n",
       "      <td>7..S97R</td>\n",
       "      <td>7</td>\n",
       "      <td>SUN</td>\n",
       "    </tr>\n",
       "    <tr>\n",
       "      <th>4</th>\n",
       "      <td>A20170625SUN_001150_7..S97R</td>\n",
       "      <td>00:17:30</td>\n",
       "      <td>00:17:30</td>\n",
       "      <td>707S</td>\n",
       "      <td>5</td>\n",
       "      <td>A20170625SUN</td>\n",
       "      <td>001150</td>\n",
       "      <td>7..S97R</td>\n",
       "      <td>7</td>\n",
       "      <td>SUN</td>\n",
       "    </tr>\n",
       "  </tbody>\n",
       "</table>\n",
       "</div>"
      ],
      "text/plain": [
       "                       trip_id arrival_time departure_time stop_id  \\\n",
       "0  A20170625SUN_001150_7..S97R     00:11:30       00:11:30    701S   \n",
       "1  A20170625SUN_001150_7..S97R     00:14:00       00:14:00    702S   \n",
       "2  A20170625SUN_001150_7..S97R     00:15:30       00:15:30    705S   \n",
       "3  A20170625SUN_001150_7..S97R     00:16:30       00:16:30    706S   \n",
       "4  A20170625SUN_001150_7..S97R     00:17:30       00:17:30    707S   \n",
       "\n",
       "   stop_sequence    service_id sub_trip_id train+direction train  day  \n",
       "0              1  A20170625SUN      001150         7..S97R     7  SUN  \n",
       "1              2  A20170625SUN      001150         7..S97R     7  SUN  \n",
       "2              3  A20170625SUN      001150         7..S97R     7  SUN  \n",
       "3              4  A20170625SUN      001150         7..S97R     7  SUN  \n",
       "4              5  A20170625SUN      001150         7..S97R     7  SUN  "
      ]
     },
     "execution_count": 4,
     "metadata": {},
     "output_type": "execute_result"
    }
   ],
   "source": [
    "stop_times.head()"
   ]
  },
  {
   "cell_type": "markdown",
   "metadata": {},
   "source": [
    "### 1)find the route,when the train stops at every station along the route"
   ]
  },
  {
   "cell_type": "code",
   "execution_count": 5,
   "metadata": {
    "collapsed": true
   },
   "outputs": [],
   "source": [
    "def find_the_longest(line):\n",
    "    \"\"\"\n",
    "    Find the longest route of a certain line in weekday,\n",
    "    return how many stops the longest routes have,\n",
    "    and route id, service id\n",
    "    \"\"\"\n",
    "    \n",
    "    North = filter( lambda x: x[3]=='N', set(stop_times['train+direction']))\n",
    "    South = filter( lambda x: x[3]=='S', set(stop_times['train+direction']))\n",
    "    ### some train longest route of south bound and north bound are different, \n",
    "    ### eg. A train, North bound max 59 stops, South bound max 58 stops.\n",
    "    \n",
    "    ## North bound:\n",
    "    N_length=stop_times[(stop_times['train']==line)&\n",
    "                       (stop_times['day']=='WKD')&\n",
    "                       (stop_times['train+direction'].isin(North))]['stop_sequence'].max()\n",
    "    N_train_direction = list(set(stop_times[(stop_times['train']==line)&\n",
    "                       (stop_times['day']=='WKD')&\n",
    "                       (stop_times['train+direction'].isin(North))&\n",
    "                       (stop_times['stop_sequence']==N_length)]['train+direction']))[0]\n",
    "    ## South bound:\n",
    "    S_length=stop_times[(stop_times['train']==line)&\n",
    "                       (stop_times['day']=='WKD')&\n",
    "                       (stop_times['train+direction'].isin(South))]['stop_sequence'].max()\n",
    "    S_train_direction = list(set(stop_times[(stop_times['train']==line)&\n",
    "                       (stop_times['day']=='WKD')&\n",
    "                       (stop_times['train+direction'].isin(South))&\n",
    "                       (stop_times['stop_sequence']==S_length)]['train+direction']))[0]\n",
    "    \n",
    "    service_id = list(set(stop_times[(stop_times['train']==line)&\n",
    "                      (stop_times['day']=='WKD')&\n",
    "                      (stop_times['stop_sequence']==N_length)]['service_id']))[0]\n",
    "    return N_length, N_train_direction, S_length, S_train_direction, service_id"
   ]
  },
  {
   "cell_type": "code",
   "execution_count": 6,
   "metadata": {
    "collapsed": false,
    "scrolled": true
   },
   "outputs": [
    {
     "data": {
      "text/plain": [
       "{'1': (37, '1..N03R', 37, '1..S03R', 'A20170625WKD'),\n",
       " '2': (61, '2..N08R', 61, '2..S08R', 'A20170625WKD'),\n",
       " '3': (34, '3..N01R', 34, '3..S01R', 'A20170625WKD'),\n",
       " '4': (54, '4..N13R', 54, '4..S13R', 'A20170625WKD'),\n",
       " '5': (39, '5..N60R', 36, '5..S03R', 'A20170625WKD'),\n",
       " '6': (38, '6..N01R', 38, '6..S01R', 'A20170625WKD'),\n",
       " '7': (22, '7..N97R', 22, '7..S97R', 'A20170625WKD'),\n",
       " 'A': (59, 'A..N09R', 58, 'A..S74R', 'B20170625WKD'),\n",
       " 'B': (37, 'B..N45R', 37, 'B..S45R', 'B20170625WKD'),\n",
       " 'C': (40, 'C..N04R', 40, 'C..S04R', 'B20170625WKD'),\n",
       " 'D': (41, 'D..N05R', 41, 'D..S05R', 'B20170625WKD'),\n",
       " 'E': (32, 'E..N05R', 32, 'E..S04R', 'B20170625WKD'),\n",
       " 'F': (45, 'F..N69R', 45, 'F..S69R', 'B20170625WKD'),\n",
       " 'FS': (4, 'FS.N01R', 4, 'FS.S01R', 'B20170625WKD'),\n",
       " 'G': (21, 'G..N14R', 21, 'G..S14R', 'B20170625WKD'),\n",
       " 'GS': (2, 'GS.N01R', 2, 'GS.S03R', 'A20170625WKD'),\n",
       " 'H': (5, 'H..N21R', 5, 'H..S21R', 'B20170625WKD'),\n",
       " 'J': (30, 'J..N12R', 30, 'J..S12R', 'B20170625WKD'),\n",
       " 'L': (24, 'L..N01R', 24, 'L..S01R', 'B20170625WKD'),\n",
       " 'M': (34, 'M..N27R', 34, 'M..S27R', 'B20170625WKD'),\n",
       " 'N': (45, 'N..N20R', 45, 'N..S20R', 'B20170625WKD'),\n",
       " 'Q': (34, 'Q..N19R', 34, 'Q..S19R', 'B20170625WKD'),\n",
       " 'R': (45, 'R..N93R', 45, 'R..S71R', 'B20170625WKD'),\n",
       " 'SI': (21, 'SI.N03R', 21, 'SI.S03R', 'R20161106WKD')}"
      ]
     },
     "execution_count": 6,
     "metadata": {},
     "output_type": "execute_result"
    }
   ],
   "source": [
    "train={}\n",
    "for i in set(stop_times['train']):\n",
    "    train[i] = find_the_longest(i)\n",
    "train\n",
    "\n",
    "### H is A,S train in JFK,\n",
    "### GS is Time Sq-42 St to Grand Central,\n",
    "### FS is near brooklyn prospect park"
   ]
  },
  {
   "cell_type": "code",
   "execution_count": 26,
   "metadata": {
    "collapsed": false
   },
   "outputs": [],
   "source": [
    "df_1= pd.DataFrame(columns=['train','bound','stop_sequence','stop_id',\n",
    "                            'service_id','route_id'])\n",
    "for i in train.keys():\n",
    "#for i in ['1']:\n",
    "    stops_1 = train[i][0]\n",
    "    direction_1= train[i][1]\n",
    "    stops_2 = train[i][2]\n",
    "    direction_2= train[i][3]\n",
    "    service_id = train[i][4]\n",
    "    \n",
    "    df_2= stop_times[(stop_times['train+direction'] == direction_1)&\n",
    "            (stop_times['train']==i)&\n",
    "            (stop_times['service_id']==service_id )].iloc[:stops_1][['stop_id','stop_sequence']]\n",
    "    df_2['train'] = i\n",
    "    df_2['bound'] = direction_1[3]\n",
    "    df_2['service_id'] = service_id\n",
    "    df_2['route_id'] = direction_1\n",
    "    df_1 = pd.concat([df_1,df_2])\n",
    "    \n",
    "    \n",
    "    df_2= stop_times[(stop_times['train+direction'] == direction_2)&\n",
    "            (stop_times['train']==i)&\n",
    "            (stop_times['service_id']==service_id )].iloc[:stops_2][['stop_id','stop_sequence']]\n",
    "    df_2['train'] = i\n",
    "    df_2['bound'] = direction_2[3]\n",
    "    df_2['service_id'] = service_id\n",
    "    df_2['route_id'] = direction_2\n",
    "    df_1 = pd.concat([df_1,df_2])\n",
    "    "
   ]
  },
  {
   "cell_type": "code",
   "execution_count": 29,
   "metadata": {
    "collapsed": false
   },
   "outputs": [
    {
     "data": {
      "text/html": [
       "<div>\n",
       "<style>\n",
       "    .dataframe thead tr:only-child th {\n",
       "        text-align: right;\n",
       "    }\n",
       "\n",
       "    .dataframe thead th {\n",
       "        text-align: left;\n",
       "    }\n",
       "\n",
       "    .dataframe tbody tr th {\n",
       "        vertical-align: top;\n",
       "    }\n",
       "</style>\n",
       "<table border=\"1\" class=\"dataframe\">\n",
       "  <thead>\n",
       "    <tr style=\"text-align: right;\">\n",
       "      <th></th>\n",
       "      <th>bound</th>\n",
       "      <th>route_id</th>\n",
       "      <th>service_id</th>\n",
       "      <th>stop_id</th>\n",
       "      <th>stop_sequence</th>\n",
       "      <th>train</th>\n",
       "    </tr>\n",
       "  </thead>\n",
       "  <tbody>\n",
       "    <tr>\n",
       "      <th>459700</th>\n",
       "      <td>N</td>\n",
       "      <td>FS.N01R</td>\n",
       "      <td>B20170625WKD</td>\n",
       "      <td>D26N</td>\n",
       "      <td>1</td>\n",
       "      <td>FS</td>\n",
       "    </tr>\n",
       "    <tr>\n",
       "      <th>459701</th>\n",
       "      <td>N</td>\n",
       "      <td>FS.N01R</td>\n",
       "      <td>B20170625WKD</td>\n",
       "      <td>S04N</td>\n",
       "      <td>2</td>\n",
       "      <td>FS</td>\n",
       "    </tr>\n",
       "    <tr>\n",
       "      <th>459702</th>\n",
       "      <td>N</td>\n",
       "      <td>FS.N01R</td>\n",
       "      <td>B20170625WKD</td>\n",
       "      <td>S03N</td>\n",
       "      <td>3</td>\n",
       "      <td>FS</td>\n",
       "    </tr>\n",
       "  </tbody>\n",
       "</table>\n",
       "</div>"
      ],
      "text/plain": [
       "       bound route_id    service_id stop_id stop_sequence train\n",
       "459700     N  FS.N01R  B20170625WKD    D26N             1    FS\n",
       "459701     N  FS.N01R  B20170625WKD    S04N             2    FS\n",
       "459702     N  FS.N01R  B20170625WKD    S03N             3    FS"
      ]
     },
     "execution_count": 29,
     "metadata": {},
     "output_type": "execute_result"
    }
   ],
   "source": [
    "df_1.head(3)"
   ]
  },
  {
   "cell_type": "code",
   "execution_count": 30,
   "metadata": {
    "collapsed": false
   },
   "outputs": [],
   "source": [
    "df_1 = df_1.sort_values(['train','bound','stop_sequence'])\n",
    "df_1 = df_1.reset_index(drop= True)\n",
    "stops = pd.read_csv('GTFS_nyc_Subway/stops.txt')\n",
    "df_1 = df_1.merge(stops[['stop_id','stop_name','stop_lat','stop_lon']],on=['stop_id'],how='left')"
   ]
  },
  {
   "cell_type": "code",
   "execution_count": 31,
   "metadata": {
    "collapsed": false
   },
   "outputs": [
    {
     "data": {
      "text/html": [
       "<div>\n",
       "<style>\n",
       "    .dataframe thead tr:only-child th {\n",
       "        text-align: right;\n",
       "    }\n",
       "\n",
       "    .dataframe thead th {\n",
       "        text-align: left;\n",
       "    }\n",
       "\n",
       "    .dataframe tbody tr th {\n",
       "        vertical-align: top;\n",
       "    }\n",
       "</style>\n",
       "<table border=\"1\" class=\"dataframe\">\n",
       "  <thead>\n",
       "    <tr style=\"text-align: right;\">\n",
       "      <th></th>\n",
       "      <th>bound</th>\n",
       "      <th>route_id</th>\n",
       "      <th>service_id</th>\n",
       "      <th>stop_id</th>\n",
       "      <th>stop_sequence</th>\n",
       "      <th>train</th>\n",
       "      <th>stop_name</th>\n",
       "      <th>stop_lat</th>\n",
       "      <th>stop_lon</th>\n",
       "    </tr>\n",
       "  </thead>\n",
       "  <tbody>\n",
       "    <tr>\n",
       "      <th>0</th>\n",
       "      <td>N</td>\n",
       "      <td>1..N03R</td>\n",
       "      <td>A20170625WKD</td>\n",
       "      <td>139N</td>\n",
       "      <td>1</td>\n",
       "      <td>1</td>\n",
       "      <td>Rector St</td>\n",
       "      <td>40.707513</td>\n",
       "      <td>-74.013783</td>\n",
       "    </tr>\n",
       "    <tr>\n",
       "      <th>1</th>\n",
       "      <td>N</td>\n",
       "      <td>1..N03R</td>\n",
       "      <td>A20170625WKD</td>\n",
       "      <td>138N</td>\n",
       "      <td>2</td>\n",
       "      <td>1</td>\n",
       "      <td>Cortlandt St</td>\n",
       "      <td>40.711835</td>\n",
       "      <td>-74.012188</td>\n",
       "    </tr>\n",
       "    <tr>\n",
       "      <th>2</th>\n",
       "      <td>N</td>\n",
       "      <td>1..N03R</td>\n",
       "      <td>A20170625WKD</td>\n",
       "      <td>137N</td>\n",
       "      <td>3</td>\n",
       "      <td>1</td>\n",
       "      <td>Chambers St</td>\n",
       "      <td>40.715478</td>\n",
       "      <td>-74.009266</td>\n",
       "    </tr>\n",
       "  </tbody>\n",
       "</table>\n",
       "</div>"
      ],
      "text/plain": [
       "  bound route_id    service_id stop_id stop_sequence train     stop_name  \\\n",
       "0     N  1..N03R  A20170625WKD    139N             1     1     Rector St   \n",
       "1     N  1..N03R  A20170625WKD    138N             2     1  Cortlandt St   \n",
       "2     N  1..N03R  A20170625WKD    137N             3     1   Chambers St   \n",
       "\n",
       "    stop_lat   stop_lon  \n",
       "0  40.707513 -74.013783  \n",
       "1  40.711835 -74.012188  \n",
       "2  40.715478 -74.009266  "
      ]
     },
     "execution_count": 31,
     "metadata": {},
     "output_type": "execute_result"
    }
   ],
   "source": [
    "## stop_id, 139, 139N, 139S are all the same stop, \n",
    "## N and S just indicate different track directions\n",
    "df_1.head(3)"
   ]
  },
  {
   "cell_type": "code",
   "execution_count": 32,
   "metadata": {
    "collapsed": true
   },
   "outputs": [],
   "source": [
    "df_1.to_csv('cleaned_data/subway_stops_sequence_weekday(longest_route)')"
   ]
  },
  {
   "cell_type": "code",
   "execution_count": 99,
   "metadata": {
    "collapsed": false
   },
   "outputs": [
    {
     "data": {
      "text/html": [
       "<div>\n",
       "<style>\n",
       "    .dataframe thead tr:only-child th {\n",
       "        text-align: right;\n",
       "    }\n",
       "\n",
       "    .dataframe thead th {\n",
       "        text-align: left;\n",
       "    }\n",
       "\n",
       "    .dataframe tbody tr th {\n",
       "        vertical-align: top;\n",
       "    }\n",
       "</style>\n",
       "<table border=\"1\" class=\"dataframe\">\n",
       "  <thead>\n",
       "    <tr style=\"text-align: right;\">\n",
       "      <th></th>\n",
       "      <th>trip_id</th>\n",
       "      <th>arrival_time</th>\n",
       "      <th>departure_time</th>\n",
       "      <th>stop_id</th>\n",
       "      <th>stop_sequence</th>\n",
       "      <th>service_id</th>\n",
       "      <th>sub_trip_id</th>\n",
       "      <th>train+direction</th>\n",
       "      <th>train</th>\n",
       "      <th>day</th>\n",
       "    </tr>\n",
       "  </thead>\n",
       "  <tbody>\n",
       "    <tr>\n",
       "      <th>0</th>\n",
       "      <td>A20170625SUN_001150_7..S97R</td>\n",
       "      <td>00:11:30</td>\n",
       "      <td>00:11:30</td>\n",
       "      <td>701S</td>\n",
       "      <td>1</td>\n",
       "      <td>A20170625SUN</td>\n",
       "      <td>001150</td>\n",
       "      <td>7..S97R</td>\n",
       "      <td>7</td>\n",
       "      <td>SUN</td>\n",
       "    </tr>\n",
       "    <tr>\n",
       "      <th>1</th>\n",
       "      <td>A20170625SUN_001150_7..S97R</td>\n",
       "      <td>00:14:00</td>\n",
       "      <td>00:14:00</td>\n",
       "      <td>702S</td>\n",
       "      <td>2</td>\n",
       "      <td>A20170625SUN</td>\n",
       "      <td>001150</td>\n",
       "      <td>7..S97R</td>\n",
       "      <td>7</td>\n",
       "      <td>SUN</td>\n",
       "    </tr>\n",
       "    <tr>\n",
       "      <th>2</th>\n",
       "      <td>A20170625SUN_001150_7..S97R</td>\n",
       "      <td>00:15:30</td>\n",
       "      <td>00:15:30</td>\n",
       "      <td>705S</td>\n",
       "      <td>3</td>\n",
       "      <td>A20170625SUN</td>\n",
       "      <td>001150</td>\n",
       "      <td>7..S97R</td>\n",
       "      <td>7</td>\n",
       "      <td>SUN</td>\n",
       "    </tr>\n",
       "    <tr>\n",
       "      <th>3</th>\n",
       "      <td>A20170625SUN_001150_7..S97R</td>\n",
       "      <td>00:16:30</td>\n",
       "      <td>00:16:30</td>\n",
       "      <td>706S</td>\n",
       "      <td>4</td>\n",
       "      <td>A20170625SUN</td>\n",
       "      <td>001150</td>\n",
       "      <td>7..S97R</td>\n",
       "      <td>7</td>\n",
       "      <td>SUN</td>\n",
       "    </tr>\n",
       "    <tr>\n",
       "      <th>4</th>\n",
       "      <td>A20170625SUN_001150_7..S97R</td>\n",
       "      <td>00:17:30</td>\n",
       "      <td>00:17:30</td>\n",
       "      <td>707S</td>\n",
       "      <td>5</td>\n",
       "      <td>A20170625SUN</td>\n",
       "      <td>001150</td>\n",
       "      <td>7..S97R</td>\n",
       "      <td>7</td>\n",
       "      <td>SUN</td>\n",
       "    </tr>\n",
       "  </tbody>\n",
       "</table>\n",
       "</div>"
      ],
      "text/plain": [
       "                       trip_id arrival_time departure_time stop_id  \\\n",
       "0  A20170625SUN_001150_7..S97R     00:11:30       00:11:30    701S   \n",
       "1  A20170625SUN_001150_7..S97R     00:14:00       00:14:00    702S   \n",
       "2  A20170625SUN_001150_7..S97R     00:15:30       00:15:30    705S   \n",
       "3  A20170625SUN_001150_7..S97R     00:16:30       00:16:30    706S   \n",
       "4  A20170625SUN_001150_7..S97R     00:17:30       00:17:30    707S   \n",
       "\n",
       "   stop_sequence    service_id sub_trip_id train+direction train  day  \n",
       "0              1  A20170625SUN      001150         7..S97R     7  SUN  \n",
       "1              2  A20170625SUN      001150         7..S97R     7  SUN  \n",
       "2              3  A20170625SUN      001150         7..S97R     7  SUN  \n",
       "3              4  A20170625SUN      001150         7..S97R     7  SUN  \n",
       "4              5  A20170625SUN      001150         7..S97R     7  SUN  "
      ]
     },
     "execution_count": 99,
     "metadata": {},
     "output_type": "execute_result"
    }
   ],
   "source": [
    "stop_times.head()"
   ]
  },
  {
   "cell_type": "code",
   "execution_count": 100,
   "metadata": {
    "collapsed": false
   },
   "outputs": [
    {
     "name": "stderr",
     "output_type": "stream",
     "text": [
      "/anaconda/lib/python2.7/site-packages/ipykernel/__main__.py:2: SettingWithCopyWarning: \n",
      "A value is trying to be set on a copy of a slice from a DataFrame.\n",
      "Try using .loc[row_indexer,col_indexer] = value instead\n",
      "\n",
      "See the caveats in the documentation: http://pandas.pydata.org/pandas-docs/stable/indexing.html#indexing-view-versus-copy\n",
      "  from ipykernel import kernelapp as app\n"
     ]
    }
   ],
   "source": [
    "df_2 = stop_times[['stop_id','train']]\n",
    "df_2['stop_id'] =  [x[:-1] for x in df_2['stop_id']]\n",
    "df_2 = df_2.drop_duplicates().sort_values(['stop_id','train']).reset_index(drop=True)"
   ]
  },
  {
   "cell_type": "code",
   "execution_count": 106,
   "metadata": {
    "collapsed": false
   },
   "outputs": [],
   "source": [
    "df_2 = df_2.merge(stops[['stop_id','stop_name','stop_lat','stop_lon']],on='stop_id',how='left')"
   ]
  },
  {
   "cell_type": "code",
   "execution_count": 107,
   "metadata": {
    "collapsed": false
   },
   "outputs": [
    {
     "data": {
      "text/html": [
       "<div>\n",
       "<style>\n",
       "    .dataframe thead tr:only-child th {\n",
       "        text-align: right;\n",
       "    }\n",
       "\n",
       "    .dataframe thead th {\n",
       "        text-align: left;\n",
       "    }\n",
       "\n",
       "    .dataframe tbody tr th {\n",
       "        vertical-align: top;\n",
       "    }\n",
       "</style>\n",
       "<table border=\"1\" class=\"dataframe\">\n",
       "  <thead>\n",
       "    <tr style=\"text-align: right;\">\n",
       "      <th></th>\n",
       "      <th>stop_id</th>\n",
       "      <th>train</th>\n",
       "      <th>stop_name</th>\n",
       "      <th>stop_lat</th>\n",
       "      <th>stop_lon</th>\n",
       "    </tr>\n",
       "  </thead>\n",
       "  <tbody>\n",
       "    <tr>\n",
       "      <th>0</th>\n",
       "      <td>101</td>\n",
       "      <td>1</td>\n",
       "      <td>Van Cortlandt Park - 242 St</td>\n",
       "      <td>40.889248</td>\n",
       "      <td>-73.898583</td>\n",
       "    </tr>\n",
       "    <tr>\n",
       "      <th>1</th>\n",
       "      <td>103</td>\n",
       "      <td>1</td>\n",
       "      <td>238 St</td>\n",
       "      <td>40.884667</td>\n",
       "      <td>-73.900870</td>\n",
       "    </tr>\n",
       "    <tr>\n",
       "      <th>2</th>\n",
       "      <td>104</td>\n",
       "      <td>1</td>\n",
       "      <td>231 St</td>\n",
       "      <td>40.878856</td>\n",
       "      <td>-73.904834</td>\n",
       "    </tr>\n",
       "    <tr>\n",
       "      <th>3</th>\n",
       "      <td>106</td>\n",
       "      <td>1</td>\n",
       "      <td>Marble Hill - 225 St</td>\n",
       "      <td>40.874561</td>\n",
       "      <td>-73.909831</td>\n",
       "    </tr>\n",
       "    <tr>\n",
       "      <th>4</th>\n",
       "      <td>107</td>\n",
       "      <td>1</td>\n",
       "      <td>215 St</td>\n",
       "      <td>40.869444</td>\n",
       "      <td>-73.915279</td>\n",
       "    </tr>\n",
       "  </tbody>\n",
       "</table>\n",
       "</div>"
      ],
      "text/plain": [
       "  stop_id train                    stop_name   stop_lat   stop_lon\n",
       "0     101     1  Van Cortlandt Park - 242 St  40.889248 -73.898583\n",
       "1     103     1                       238 St  40.884667 -73.900870\n",
       "2     104     1                       231 St  40.878856 -73.904834\n",
       "3     106     1         Marble Hill - 225 St  40.874561 -73.909831\n",
       "4     107     1                       215 St  40.869444 -73.915279"
      ]
     },
     "execution_count": 107,
     "metadata": {},
     "output_type": "execute_result"
    }
   ],
   "source": [
    "df_2.head()"
   ]
  },
  {
   "cell_type": "code",
   "execution_count": 108,
   "metadata": {
    "collapsed": true
   },
   "outputs": [],
   "source": [
    "df_2.to_csv('cleaned_data/which_lines_at_each_station(longest_route)')"
   ]
  },
  {
   "cell_type": "code",
   "execution_count": 110,
   "metadata": {
    "collapsed": false
   },
   "outputs": [
    {
     "name": "stdout",
     "output_type": "stream",
     "text": [
      "recently no service at these stations\n"
     ]
    },
    {
     "data": {
      "text/html": [
       "<div>\n",
       "<style>\n",
       "    .dataframe thead tr:only-child th {\n",
       "        text-align: right;\n",
       "    }\n",
       "\n",
       "    .dataframe thead th {\n",
       "        text-align: left;\n",
       "    }\n",
       "\n",
       "    .dataframe tbody tr th {\n",
       "        vertical-align: top;\n",
       "    }\n",
       "</style>\n",
       "<table border=\"1\" class=\"dataframe\">\n",
       "  <thead>\n",
       "    <tr style=\"text-align: right;\">\n",
       "      <th></th>\n",
       "      <th>stop_id</th>\n",
       "      <th>stop_name</th>\n",
       "    </tr>\n",
       "  </thead>\n",
       "  <tbody>\n",
       "    <tr>\n",
       "      <th>111</th>\n",
       "      <td>140</td>\n",
       "      <td>South Ferry Loop</td>\n",
       "    </tr>\n",
       "    <tr>\n",
       "      <th>1221</th>\n",
       "      <td>M09</td>\n",
       "      <td>Knickerbocker Av</td>\n",
       "    </tr>\n",
       "    <tr>\n",
       "      <th>1224</th>\n",
       "      <td>M10</td>\n",
       "      <td>Central Av</td>\n",
       "    </tr>\n",
       "    <tr>\n",
       "      <th>1287</th>\n",
       "      <td>N12</td>\n",
       "      <td>S.B. Coney Island</td>\n",
       "    </tr>\n",
       "    <tr>\n",
       "      <th>1431</th>\n",
       "      <td>S10</td>\n",
       "      <td>Atlantic</td>\n",
       "    </tr>\n",
       "    <tr>\n",
       "      <th>1437</th>\n",
       "      <td>S12</td>\n",
       "      <td>Nassau</td>\n",
       "    </tr>\n",
       "  </tbody>\n",
       "</table>\n",
       "</div>"
      ],
      "text/plain": [
       "     stop_id          stop_name\n",
       "111      140   South Ferry Loop\n",
       "1221     M09   Knickerbocker Av\n",
       "1224     M10         Central Av\n",
       "1287     N12  S.B. Coney Island\n",
       "1431     S10           Atlantic\n",
       "1437     S12             Nassau"
      ]
     },
     "execution_count": 110,
     "metadata": {},
     "output_type": "execute_result"
    }
   ],
   "source": [
    "no_service_stops = []\n",
    "for i in stops['stop_id'][::3]:\n",
    "    if i in df_2['stop_id'].values:\n",
    "        pass\n",
    "    else:\n",
    "        no_service_stops.append(i)\n",
    "print \"recently no service at these stations\"\n",
    "stops[stops['stop_id'].isin(no_service_stops)][['stop_id','stop_name']]"
   ]
  },
  {
   "cell_type": "code",
   "execution_count": null,
   "metadata": {
    "collapsed": true
   },
   "outputs": [],
   "source": []
  },
  {
   "cell_type": "markdown",
   "metadata": {},
   "source": [
    "### 2）find the route for rush hour"
   ]
  },
  {
   "cell_type": "code",
   "execution_count": 14,
   "metadata": {
    "collapsed": false
   },
   "outputs": [
    {
     "data": {
      "text/html": [
       "<div>\n",
       "<style>\n",
       "    .dataframe thead tr:only-child th {\n",
       "        text-align: right;\n",
       "    }\n",
       "\n",
       "    .dataframe thead th {\n",
       "        text-align: left;\n",
       "    }\n",
       "\n",
       "    .dataframe tbody tr th {\n",
       "        vertical-align: top;\n",
       "    }\n",
       "</style>\n",
       "<table border=\"1\" class=\"dataframe\">\n",
       "  <thead>\n",
       "    <tr style=\"text-align: right;\">\n",
       "      <th></th>\n",
       "      <th>trip_id</th>\n",
       "      <th>arrival_time</th>\n",
       "      <th>departure_time</th>\n",
       "      <th>stop_id</th>\n",
       "      <th>stop_sequence</th>\n",
       "      <th>service_id</th>\n",
       "      <th>sub_trip_id</th>\n",
       "      <th>train+direction</th>\n",
       "      <th>train</th>\n",
       "      <th>day</th>\n",
       "    </tr>\n",
       "  </thead>\n",
       "  <tbody>\n",
       "    <tr>\n",
       "      <th>0</th>\n",
       "      <td>A20170625SUN_001150_7..S97R</td>\n",
       "      <td>00:11:30</td>\n",
       "      <td>00:11:30</td>\n",
       "      <td>701S</td>\n",
       "      <td>1</td>\n",
       "      <td>A20170625SUN</td>\n",
       "      <td>001150</td>\n",
       "      <td>7..S97R</td>\n",
       "      <td>7</td>\n",
       "      <td>SUN</td>\n",
       "    </tr>\n",
       "    <tr>\n",
       "      <th>1</th>\n",
       "      <td>A20170625SUN_001150_7..S97R</td>\n",
       "      <td>00:14:00</td>\n",
       "      <td>00:14:00</td>\n",
       "      <td>702S</td>\n",
       "      <td>2</td>\n",
       "      <td>A20170625SUN</td>\n",
       "      <td>001150</td>\n",
       "      <td>7..S97R</td>\n",
       "      <td>7</td>\n",
       "      <td>SUN</td>\n",
       "    </tr>\n",
       "    <tr>\n",
       "      <th>2</th>\n",
       "      <td>A20170625SUN_001150_7..S97R</td>\n",
       "      <td>00:15:30</td>\n",
       "      <td>00:15:30</td>\n",
       "      <td>705S</td>\n",
       "      <td>3</td>\n",
       "      <td>A20170625SUN</td>\n",
       "      <td>001150</td>\n",
       "      <td>7..S97R</td>\n",
       "      <td>7</td>\n",
       "      <td>SUN</td>\n",
       "    </tr>\n",
       "    <tr>\n",
       "      <th>3</th>\n",
       "      <td>A20170625SUN_001150_7..S97R</td>\n",
       "      <td>00:16:30</td>\n",
       "      <td>00:16:30</td>\n",
       "      <td>706S</td>\n",
       "      <td>4</td>\n",
       "      <td>A20170625SUN</td>\n",
       "      <td>001150</td>\n",
       "      <td>7..S97R</td>\n",
       "      <td>7</td>\n",
       "      <td>SUN</td>\n",
       "    </tr>\n",
       "    <tr>\n",
       "      <th>4</th>\n",
       "      <td>A20170625SUN_001150_7..S97R</td>\n",
       "      <td>00:17:30</td>\n",
       "      <td>00:17:30</td>\n",
       "      <td>707S</td>\n",
       "      <td>5</td>\n",
       "      <td>A20170625SUN</td>\n",
       "      <td>001150</td>\n",
       "      <td>7..S97R</td>\n",
       "      <td>7</td>\n",
       "      <td>SUN</td>\n",
       "    </tr>\n",
       "  </tbody>\n",
       "</table>\n",
       "</div>"
      ],
      "text/plain": [
       "                       trip_id arrival_time departure_time stop_id  \\\n",
       "0  A20170625SUN_001150_7..S97R     00:11:30       00:11:30    701S   \n",
       "1  A20170625SUN_001150_7..S97R     00:14:00       00:14:00    702S   \n",
       "2  A20170625SUN_001150_7..S97R     00:15:30       00:15:30    705S   \n",
       "3  A20170625SUN_001150_7..S97R     00:16:30       00:16:30    706S   \n",
       "4  A20170625SUN_001150_7..S97R     00:17:30       00:17:30    707S   \n",
       "\n",
       "   stop_sequence    service_id sub_trip_id train+direction train  day  \n",
       "0              1  A20170625SUN      001150         7..S97R     7  SUN  \n",
       "1              2  A20170625SUN      001150         7..S97R     7  SUN  \n",
       "2              3  A20170625SUN      001150         7..S97R     7  SUN  \n",
       "3              4  A20170625SUN      001150         7..S97R     7  SUN  \n",
       "4              5  A20170625SUN      001150         7..S97R     7  SUN  "
      ]
     },
     "execution_count": 14,
     "metadata": {},
     "output_type": "execute_result"
    }
   ],
   "source": [
    "stop_times.head()"
   ]
  },
  {
   "cell_type": "code",
   "execution_count": 15,
   "metadata": {
    "collapsed": false
   },
   "outputs": [],
   "source": [
    "stop_times = stop_times[stop_times['day']=='WKD']\n",
    "morning_rush_trip_id = stop_times[(stop_times['stop_sequence']==1)&\n",
    "                                   stop_times['arrival_time'].isin(\n",
    "                        filter(lambda x: (int(x[:2])>=7)&(int(x[:2])<10),stop_times['arrival_time']))]['sub_trip_id']"
   ]
  },
  {
   "cell_type": "code",
   "execution_count": 16,
   "metadata": {
    "collapsed": false
   },
   "outputs": [],
   "source": [
    "morning_rush = stop_times[stop_times['sub_trip_id'].isin(morning_rush_trip_id)]"
   ]
  },
  {
   "cell_type": "code",
   "execution_count": 17,
   "metadata": {
    "collapsed": false
   },
   "outputs": [
    {
     "data": {
      "text/html": [
       "<div>\n",
       "<style>\n",
       "    .dataframe thead tr:only-child th {\n",
       "        text-align: right;\n",
       "    }\n",
       "\n",
       "    .dataframe thead th {\n",
       "        text-align: left;\n",
       "    }\n",
       "\n",
       "    .dataframe tbody tr th {\n",
       "        vertical-align: top;\n",
       "    }\n",
       "</style>\n",
       "<table border=\"1\" class=\"dataframe\">\n",
       "  <thead>\n",
       "    <tr style=\"text-align: right;\">\n",
       "      <th></th>\n",
       "      <th>trip_id</th>\n",
       "      <th>arrival_time</th>\n",
       "      <th>departure_time</th>\n",
       "      <th>stop_id</th>\n",
       "      <th>stop_sequence</th>\n",
       "      <th>service_id</th>\n",
       "      <th>sub_trip_id</th>\n",
       "      <th>train+direction</th>\n",
       "      <th>train</th>\n",
       "      <th>day</th>\n",
       "    </tr>\n",
       "  </thead>\n",
       "  <tbody>\n",
       "    <tr>\n",
       "      <th>7612</th>\n",
       "      <td>A20170625WKD_045000_GS.N04R</td>\n",
       "      <td>07:30:00</td>\n",
       "      <td>07:30:00</td>\n",
       "      <td>901N</td>\n",
       "      <td>1</td>\n",
       "      <td>A20170625WKD</td>\n",
       "      <td>045000</td>\n",
       "      <td>GS.N04R</td>\n",
       "      <td>GS</td>\n",
       "      <td>WKD</td>\n",
       "    </tr>\n",
       "    <tr>\n",
       "      <th>7613</th>\n",
       "      <td>A20170625WKD_045000_GS.N04R</td>\n",
       "      <td>07:31:30</td>\n",
       "      <td>07:31:30</td>\n",
       "      <td>902N</td>\n",
       "      <td>2</td>\n",
       "      <td>A20170625WKD</td>\n",
       "      <td>045000</td>\n",
       "      <td>GS.N04R</td>\n",
       "      <td>GS</td>\n",
       "      <td>WKD</td>\n",
       "    </tr>\n",
       "    <tr>\n",
       "      <th>7614</th>\n",
       "      <td>A20170625WKD_045350_GS.S04R</td>\n",
       "      <td>07:33:30</td>\n",
       "      <td>07:33:30</td>\n",
       "      <td>902S</td>\n",
       "      <td>1</td>\n",
       "      <td>A20170625WKD</td>\n",
       "      <td>045350</td>\n",
       "      <td>GS.S04R</td>\n",
       "      <td>GS</td>\n",
       "      <td>WKD</td>\n",
       "    </tr>\n",
       "    <tr>\n",
       "      <th>7615</th>\n",
       "      <td>A20170625WKD_045350_GS.S04R</td>\n",
       "      <td>07:35:00</td>\n",
       "      <td>07:35:00</td>\n",
       "      <td>901S</td>\n",
       "      <td>2</td>\n",
       "      <td>A20170625WKD</td>\n",
       "      <td>045350</td>\n",
       "      <td>GS.S04R</td>\n",
       "      <td>GS</td>\n",
       "      <td>WKD</td>\n",
       "    </tr>\n",
       "    <tr>\n",
       "      <th>7616</th>\n",
       "      <td>A20170625WKD_045900_GS.N04R</td>\n",
       "      <td>07:39:00</td>\n",
       "      <td>07:39:00</td>\n",
       "      <td>901N</td>\n",
       "      <td>1</td>\n",
       "      <td>A20170625WKD</td>\n",
       "      <td>045900</td>\n",
       "      <td>GS.N04R</td>\n",
       "      <td>GS</td>\n",
       "      <td>WKD</td>\n",
       "    </tr>\n",
       "  </tbody>\n",
       "</table>\n",
       "</div>"
      ],
      "text/plain": [
       "                          trip_id arrival_time departure_time stop_id  \\\n",
       "7612  A20170625WKD_045000_GS.N04R     07:30:00       07:30:00    901N   \n",
       "7613  A20170625WKD_045000_GS.N04R     07:31:30       07:31:30    902N   \n",
       "7614  A20170625WKD_045350_GS.S04R     07:33:30       07:33:30    902S   \n",
       "7615  A20170625WKD_045350_GS.S04R     07:35:00       07:35:00    901S   \n",
       "7616  A20170625WKD_045900_GS.N04R     07:39:00       07:39:00    901N   \n",
       "\n",
       "      stop_sequence    service_id sub_trip_id train+direction train  day  \n",
       "7612              1  A20170625WKD      045000         GS.N04R    GS  WKD  \n",
       "7613              2  A20170625WKD      045000         GS.N04R    GS  WKD  \n",
       "7614              1  A20170625WKD      045350         GS.S04R    GS  WKD  \n",
       "7615              2  A20170625WKD      045350         GS.S04R    GS  WKD  \n",
       "7616              1  A20170625WKD      045900         GS.N04R    GS  WKD  "
      ]
     },
     "execution_count": 17,
     "metadata": {},
     "output_type": "execute_result"
    }
   ],
   "source": [
    "morning_rush.head()"
   ]
  },
  {
   "cell_type": "code",
   "execution_count": 18,
   "metadata": {
    "collapsed": false
   },
   "outputs": [
    {
     "name": "stderr",
     "output_type": "stream",
     "text": [
      "/anaconda/lib/python2.7/site-packages/ipykernel/__main__.py:1: SettingWithCopyWarning: \n",
      "A value is trying to be set on a copy of a slice from a DataFrame.\n",
      "Try using .loc[row_indexer,col_indexer] = value instead\n",
      "\n",
      "See the caveats in the documentation: http://pandas.pydata.org/pandas-docs/stable/indexing.html#indexing-view-versus-copy\n",
      "  if __name__ == '__main__':\n"
     ]
    },
    {
     "data": {
      "text/html": [
       "<div>\n",
       "<style>\n",
       "    .dataframe thead tr:only-child th {\n",
       "        text-align: right;\n",
       "    }\n",
       "\n",
       "    .dataframe thead th {\n",
       "        text-align: left;\n",
       "    }\n",
       "\n",
       "    .dataframe tbody tr th {\n",
       "        vertical-align: top;\n",
       "    }\n",
       "</style>\n",
       "<table border=\"1\" class=\"dataframe\">\n",
       "  <thead>\n",
       "    <tr style=\"text-align: right;\">\n",
       "      <th></th>\n",
       "      <th>trip_id</th>\n",
       "      <th>arrival_time</th>\n",
       "      <th>departure_time</th>\n",
       "      <th>stop_id</th>\n",
       "      <th>stop_sequence</th>\n",
       "      <th>service_id</th>\n",
       "      <th>sub_trip_id</th>\n",
       "      <th>train+direction</th>\n",
       "      <th>train</th>\n",
       "      <th>day</th>\n",
       "    </tr>\n",
       "  </thead>\n",
       "  <tbody>\n",
       "    <tr>\n",
       "      <th>7612</th>\n",
       "      <td>A20170625WKD_045000_GS.N04R</td>\n",
       "      <td>2017-06-29 07:30:00</td>\n",
       "      <td>07:30:00</td>\n",
       "      <td>901N</td>\n",
       "      <td>1</td>\n",
       "      <td>A20170625WKD</td>\n",
       "      <td>045000</td>\n",
       "      <td>GS.N04R</td>\n",
       "      <td>GS</td>\n",
       "      <td>WKD</td>\n",
       "    </tr>\n",
       "    <tr>\n",
       "      <th>7613</th>\n",
       "      <td>A20170625WKD_045000_GS.N04R</td>\n",
       "      <td>2017-06-29 07:31:30</td>\n",
       "      <td>07:31:30</td>\n",
       "      <td>902N</td>\n",
       "      <td>2</td>\n",
       "      <td>A20170625WKD</td>\n",
       "      <td>045000</td>\n",
       "      <td>GS.N04R</td>\n",
       "      <td>GS</td>\n",
       "      <td>WKD</td>\n",
       "    </tr>\n",
       "  </tbody>\n",
       "</table>\n",
       "</div>"
      ],
      "text/plain": [
       "                          trip_id        arrival_time departure_time stop_id  \\\n",
       "7612  A20170625WKD_045000_GS.N04R 2017-06-29 07:30:00       07:30:00    901N   \n",
       "7613  A20170625WKD_045000_GS.N04R 2017-06-29 07:31:30       07:31:30    902N   \n",
       "\n",
       "      stop_sequence    service_id sub_trip_id train+direction train  day  \n",
       "7612              1  A20170625WKD      045000         GS.N04R    GS  WKD  \n",
       "7613              2  A20170625WKD      045000         GS.N04R    GS  WKD  "
      ]
     },
     "execution_count": 18,
     "metadata": {},
     "output_type": "execute_result"
    }
   ],
   "source": [
    "morning_rush['arrival_time'] = pd.to_datetime(morning_rush['arrival_time'])\n",
    "morning_rush.head(2)"
   ]
  },
  {
   "cell_type": "code",
   "execution_count": 19,
   "metadata": {
    "collapsed": false
   },
   "outputs": [],
   "source": [
    "start = morning_rush[morning_rush['stop_sequence']==1]"
   ]
  },
  {
   "cell_type": "code",
   "execution_count": 20,
   "metadata": {
    "collapsed": false,
    "scrolled": true
   },
   "outputs": [
    {
     "data": {
      "text/html": [
       "<div>\n",
       "<style>\n",
       "    .dataframe thead tr:only-child th {\n",
       "        text-align: right;\n",
       "    }\n",
       "\n",
       "    .dataframe thead th {\n",
       "        text-align: left;\n",
       "    }\n",
       "\n",
       "    .dataframe tbody tr th {\n",
       "        vertical-align: top;\n",
       "    }\n",
       "</style>\n",
       "<table border=\"1\" class=\"dataframe\">\n",
       "  <thead>\n",
       "    <tr style=\"text-align: right;\">\n",
       "      <th></th>\n",
       "      <th>trip_id</th>\n",
       "      <th>arrival_time</th>\n",
       "      <th>departure_time</th>\n",
       "      <th>stop_id</th>\n",
       "      <th>stop_sequence</th>\n",
       "      <th>service_id</th>\n",
       "      <th>sub_trip_id</th>\n",
       "      <th>train+direction</th>\n",
       "      <th>train</th>\n",
       "      <th>day</th>\n",
       "    </tr>\n",
       "  </thead>\n",
       "  <tbody>\n",
       "    <tr>\n",
       "      <th>7612</th>\n",
       "      <td>A20170625WKD_045000_GS.N04R</td>\n",
       "      <td>2017-06-29 07:30:00</td>\n",
       "      <td>07:30:00</td>\n",
       "      <td>901N</td>\n",
       "      <td>1</td>\n",
       "      <td>A20170625WKD</td>\n",
       "      <td>045000</td>\n",
       "      <td>GS.N04R</td>\n",
       "      <td>GS</td>\n",
       "      <td>WKD</td>\n",
       "    </tr>\n",
       "    <tr>\n",
       "      <th>7614</th>\n",
       "      <td>A20170625WKD_045350_GS.S04R</td>\n",
       "      <td>2017-06-29 07:33:30</td>\n",
       "      <td>07:33:30</td>\n",
       "      <td>902S</td>\n",
       "      <td>1</td>\n",
       "      <td>A20170625WKD</td>\n",
       "      <td>045350</td>\n",
       "      <td>GS.S04R</td>\n",
       "      <td>GS</td>\n",
       "      <td>WKD</td>\n",
       "    </tr>\n",
       "    <tr>\n",
       "      <th>7616</th>\n",
       "      <td>A20170625WKD_045900_GS.N04R</td>\n",
       "      <td>2017-06-29 07:39:00</td>\n",
       "      <td>07:39:00</td>\n",
       "      <td>901N</td>\n",
       "      <td>1</td>\n",
       "      <td>A20170625WKD</td>\n",
       "      <td>045900</td>\n",
       "      <td>GS.N04R</td>\n",
       "      <td>GS</td>\n",
       "      <td>WKD</td>\n",
       "    </tr>\n",
       "    <tr>\n",
       "      <th>7618</th>\n",
       "      <td>A20170625WKD_046250_GS.S04R</td>\n",
       "      <td>2017-06-29 07:42:30</td>\n",
       "      <td>07:42:30</td>\n",
       "      <td>902S</td>\n",
       "      <td>1</td>\n",
       "      <td>A20170625WKD</td>\n",
       "      <td>046250</td>\n",
       "      <td>GS.S04R</td>\n",
       "      <td>GS</td>\n",
       "      <td>WKD</td>\n",
       "    </tr>\n",
       "    <tr>\n",
       "      <th>7620</th>\n",
       "      <td>A20170625WKD_046800_GS.N04R</td>\n",
       "      <td>2017-06-29 07:48:00</td>\n",
       "      <td>07:48:00</td>\n",
       "      <td>901N</td>\n",
       "      <td>1</td>\n",
       "      <td>A20170625WKD</td>\n",
       "      <td>046800</td>\n",
       "      <td>GS.N04R</td>\n",
       "      <td>GS</td>\n",
       "      <td>WKD</td>\n",
       "    </tr>\n",
       "  </tbody>\n",
       "</table>\n",
       "</div>"
      ],
      "text/plain": [
       "                          trip_id        arrival_time departure_time stop_id  \\\n",
       "7612  A20170625WKD_045000_GS.N04R 2017-06-29 07:30:00       07:30:00    901N   \n",
       "7614  A20170625WKD_045350_GS.S04R 2017-06-29 07:33:30       07:33:30    902S   \n",
       "7616  A20170625WKD_045900_GS.N04R 2017-06-29 07:39:00       07:39:00    901N   \n",
       "7618  A20170625WKD_046250_GS.S04R 2017-06-29 07:42:30       07:42:30    902S   \n",
       "7620  A20170625WKD_046800_GS.N04R 2017-06-29 07:48:00       07:48:00    901N   \n",
       "\n",
       "      stop_sequence    service_id sub_trip_id train+direction train  day  \n",
       "7612              1  A20170625WKD      045000         GS.N04R    GS  WKD  \n",
       "7614              1  A20170625WKD      045350         GS.S04R    GS  WKD  \n",
       "7616              1  A20170625WKD      045900         GS.N04R    GS  WKD  \n",
       "7618              1  A20170625WKD      046250         GS.S04R    GS  WKD  \n",
       "7620              1  A20170625WKD      046800         GS.N04R    GS  WKD  "
      ]
     },
     "execution_count": 20,
     "metadata": {},
     "output_type": "execute_result"
    }
   ],
   "source": [
    "start.head()"
   ]
  },
  {
   "cell_type": "code",
   "execution_count": 473,
   "metadata": {
    "collapsed": false
   },
   "outputs": [
    {
     "data": {
      "text/plain": [
       "7..N97R    50\n",
       "L..S01R    40\n",
       "L..N01R    36\n",
       "E..N66R    35\n",
       "E..S71R    34\n",
       "7..S98R    34\n",
       "1..N03R    33\n",
       "1..S03R    31\n",
       "4..N06R    28\n",
       "6..N01R    27\n",
       "Name: train+direction, dtype: int64"
      ]
     },
     "execution_count": 473,
     "metadata": {},
     "output_type": "execute_result"
    }
   ],
   "source": [
    "### morning rush hour route as below, and how many trips are running at the route\n",
    "start['train+direction'].value_counts()[:10]"
   ]
  },
  {
   "cell_type": "code",
   "execution_count": 21,
   "metadata": {
    "collapsed": true
   },
   "outputs": [],
   "source": [
    "morning_rush_route =  list(set(morning_rush['train+direction'].values))"
   ]
  },
  {
   "cell_type": "code",
   "execution_count": 22,
   "metadata": {
    "collapsed": false
   },
   "outputs": [],
   "source": [
    "route_len = {}\n",
    "for route in morning_rush_route:\n",
    "    if route_len.get(route)==None:\n",
    "        route_len[route]= morning_rush[morning_rush['train+direction'] == route]['stop_sequence'].max()\n",
    "    else:\n",
    "        pass"
   ]
  },
  {
   "cell_type": "code",
   "execution_count": 23,
   "metadata": {
    "collapsed": false
   },
   "outputs": [
    {
     "data": {
      "text/plain": [
       "[('B..N47R', 27),\n",
       " ('2..N01R', 49),\n",
       " ('F..S68R', 40),\n",
       " ('H..S21R', 5),\n",
       " ('N..S70R', 44),\n",
       " ('J..S21R', 23),\n",
       " ('L..S01R', 24),\n",
       " ('GS.N04R', 2),\n",
       " ('6..S02R', 29),\n",
       " ('A..S55X009', 36)]"
      ]
     },
     "execution_count": 23,
     "metadata": {},
     "output_type": "execute_result"
    }
   ],
   "source": [
    "route_len.items()[:10]"
   ]
  },
  {
   "cell_type": "code",
   "execution_count": 525,
   "metadata": {
    "collapsed": false
   },
   "outputs": [],
   "source": [
    "# duration=pd.DataFrame(columns=['from_stop_id','to_stop_id','duration','route'])\n",
    "# for i in route_len.keys()[:1]:\n",
    "#     df = morning_rush[morning_rush['train+direction']==i].iloc[:route_len[i]]\n",
    "#     duration['from_stop_id'] = df['stop_id'][:-1].values\n",
    "#     duration['to_stop_id'] = df['stop_id'][1:].values\n",
    "#     duration['duration']=map(dt.timedelta.total_seconds,(df['arrival_time'][1:].values-df['arrival_time'][:-1]))\n",
    "#     duration['route'] = df['train+direction'].values[:-1]"
   ]
  },
  {
   "cell_type": "code",
   "execution_count": 24,
   "metadata": {
    "collapsed": false
   },
   "outputs": [],
   "source": [
    "duration=pd.DataFrame(columns=['from_stop_id','to_stop_id','duration','route'])\n",
    "for i in route_len.keys():\n",
    "    df = morning_rush[morning_rush['train+direction']==i].iloc[:route_len[i]]\n",
    "    duration_1=pd.DataFrame(columns=['from_stop_id','to_stop_id','duration'])\n",
    "    duration_1['from_stop_id'] = df['stop_id'][:-1].values\n",
    "    duration_1['to_stop_id'] = df['stop_id'][1:].values\n",
    "    duration_1['duration']=map(dt.timedelta.total_seconds,(df['arrival_time'][1:].values-df['arrival_time'][:-1]))\n",
    "    duration_1['route'] = df['train+direction'].values[:-1]\n",
    "    duration = pd.concat([duration,duration_1])"
   ]
  },
  {
   "cell_type": "code",
   "execution_count": 25,
   "metadata": {
    "collapsed": false
   },
   "outputs": [],
   "source": [
    "duration['train'] = map(lambda x:x.split('.')[0],duration['route'])\n",
    "duration = pd.DataFrame(duration.groupby(['from_stop_id',\n",
    "                               'to_stop_id',\n",
    "                               'train'])['duration'].mean()).reset_index()"
   ]
  },
  {
   "cell_type": "code",
   "execution_count": 27,
   "metadata": {
    "collapsed": false
   },
   "outputs": [
    {
     "data": {
      "text/html": [
       "<div>\n",
       "<style>\n",
       "    .dataframe thead tr:only-child th {\n",
       "        text-align: right;\n",
       "    }\n",
       "\n",
       "    .dataframe thead th {\n",
       "        text-align: left;\n",
       "    }\n",
       "\n",
       "    .dataframe tbody tr th {\n",
       "        vertical-align: top;\n",
       "    }\n",
       "</style>\n",
       "<table border=\"1\" class=\"dataframe\">\n",
       "  <thead>\n",
       "    <tr style=\"text-align: right;\">\n",
       "      <th></th>\n",
       "      <th>from_stop_id</th>\n",
       "      <th>to_stop_id</th>\n",
       "      <th>train</th>\n",
       "      <th>duration</th>\n",
       "    </tr>\n",
       "  </thead>\n",
       "  <tbody>\n",
       "    <tr>\n",
       "      <th>0</th>\n",
       "      <td>101S</td>\n",
       "      <td>103S</td>\n",
       "      <td>1</td>\n",
       "      <td>90.0</td>\n",
       "    </tr>\n",
       "    <tr>\n",
       "      <th>1</th>\n",
       "      <td>103N</td>\n",
       "      <td>101N</td>\n",
       "      <td>1</td>\n",
       "      <td>90.0</td>\n",
       "    </tr>\n",
       "    <tr>\n",
       "      <th>2</th>\n",
       "      <td>103S</td>\n",
       "      <td>104S</td>\n",
       "      <td>1</td>\n",
       "      <td>90.0</td>\n",
       "    </tr>\n",
       "    <tr>\n",
       "      <th>3</th>\n",
       "      <td>104N</td>\n",
       "      <td>103N</td>\n",
       "      <td>1</td>\n",
       "      <td>90.0</td>\n",
       "    </tr>\n",
       "    <tr>\n",
       "      <th>4</th>\n",
       "      <td>104S</td>\n",
       "      <td>106S</td>\n",
       "      <td>1</td>\n",
       "      <td>90.0</td>\n",
       "    </tr>\n",
       "  </tbody>\n",
       "</table>\n",
       "</div>"
      ],
      "text/plain": [
       "  from_stop_id to_stop_id train  duration\n",
       "0         101S       103S     1      90.0\n",
       "1         103N       101N     1      90.0\n",
       "2         103S       104S     1      90.0\n",
       "3         104N       103N     1      90.0\n",
       "4         104S       106S     1      90.0"
      ]
     },
     "execution_count": 27,
     "metadata": {},
     "output_type": "execute_result"
    }
   ],
   "source": [
    "duration.head()"
   ]
  },
  {
   "cell_type": "code",
   "execution_count": 26,
   "metadata": {
    "collapsed": false
   },
   "outputs": [
    {
     "data": {
      "text/plain": [
       "1493"
      ]
     },
     "execution_count": 26,
     "metadata": {},
     "output_type": "execute_result"
    }
   ],
   "source": [
    "len(duration)"
   ]
  },
  {
   "cell_type": "markdown",
   "metadata": {},
   "source": [
    "#### there 1474 connections between stops at weekday morning rush hour"
   ]
  },
  {
   "cell_type": "code",
   "execution_count": 537,
   "metadata": {
    "collapsed": false
   },
   "outputs": [],
   "source": [
    "duration = duration.merge(stops.rename(columns={'stop_id':'from_stop_id',\n",
    "                    \"stop_name\":'from_stop_name',\n",
    "                     \"stop_lat\":'from_stop_lat',\n",
    "                     \"stop_lon\":'from_stop_lon'})[['from_stop_id','from_stop_name','from_stop_lat','from_stop_lon']],\n",
    "              on = 'from_stop_id',how = 'left')"
   ]
  },
  {
   "cell_type": "code",
   "execution_count": 538,
   "metadata": {
    "collapsed": false
   },
   "outputs": [],
   "source": [
    "duration = duration.merge(stops.rename(columns={'stop_id':'to_stop_id',\n",
    "                    \"stop_name\":'to_stop_name',\n",
    "                     \"stop_lat\":'to_stop_lat',\n",
    "                     \"stop_lon\":'to_stop_lon'})[['to_stop_id','to_stop_name','to_stop_lat','to_stop_lon']],\n",
    "              on = 'to_stop_id',how = 'left')"
   ]
  },
  {
   "cell_type": "code",
   "execution_count": 539,
   "metadata": {
    "collapsed": false
   },
   "outputs": [
    {
     "data": {
      "text/html": [
       "<div>\n",
       "<style>\n",
       "    .dataframe thead tr:only-child th {\n",
       "        text-align: right;\n",
       "    }\n",
       "\n",
       "    .dataframe thead th {\n",
       "        text-align: left;\n",
       "    }\n",
       "\n",
       "    .dataframe tbody tr th {\n",
       "        vertical-align: top;\n",
       "    }\n",
       "</style>\n",
       "<table border=\"1\" class=\"dataframe\">\n",
       "  <thead>\n",
       "    <tr style=\"text-align: right;\">\n",
       "      <th></th>\n",
       "      <th>from_stop_id</th>\n",
       "      <th>to_stop_id</th>\n",
       "      <th>train</th>\n",
       "      <th>duration</th>\n",
       "      <th>from_stop_name</th>\n",
       "      <th>from_stop_lat</th>\n",
       "      <th>from_stop_lon</th>\n",
       "      <th>to_stop_name</th>\n",
       "      <th>to_stop_lat</th>\n",
       "      <th>to_stop_lon</th>\n",
       "    </tr>\n",
       "  </thead>\n",
       "  <tbody>\n",
       "    <tr>\n",
       "      <th>0</th>\n",
       "      <td>101S</td>\n",
       "      <td>103S</td>\n",
       "      <td>1</td>\n",
       "      <td>90.0</td>\n",
       "      <td>Van Cortlandt Park - 242 St</td>\n",
       "      <td>40.889248</td>\n",
       "      <td>-73.898583</td>\n",
       "      <td>238 St</td>\n",
       "      <td>40.884667</td>\n",
       "      <td>-73.900870</td>\n",
       "    </tr>\n",
       "    <tr>\n",
       "      <th>1</th>\n",
       "      <td>103N</td>\n",
       "      <td>101N</td>\n",
       "      <td>1</td>\n",
       "      <td>90.0</td>\n",
       "      <td>238 St</td>\n",
       "      <td>40.884667</td>\n",
       "      <td>-73.900870</td>\n",
       "      <td>Van Cortlandt Park - 242 St</td>\n",
       "      <td>40.889248</td>\n",
       "      <td>-73.898583</td>\n",
       "    </tr>\n",
       "    <tr>\n",
       "      <th>2</th>\n",
       "      <td>103S</td>\n",
       "      <td>104S</td>\n",
       "      <td>1</td>\n",
       "      <td>90.0</td>\n",
       "      <td>238 St</td>\n",
       "      <td>40.884667</td>\n",
       "      <td>-73.900870</td>\n",
       "      <td>231 St</td>\n",
       "      <td>40.878856</td>\n",
       "      <td>-73.904834</td>\n",
       "    </tr>\n",
       "    <tr>\n",
       "      <th>3</th>\n",
       "      <td>104N</td>\n",
       "      <td>103N</td>\n",
       "      <td>1</td>\n",
       "      <td>90.0</td>\n",
       "      <td>231 St</td>\n",
       "      <td>40.878856</td>\n",
       "      <td>-73.904834</td>\n",
       "      <td>238 St</td>\n",
       "      <td>40.884667</td>\n",
       "      <td>-73.900870</td>\n",
       "    </tr>\n",
       "    <tr>\n",
       "      <th>4</th>\n",
       "      <td>104S</td>\n",
       "      <td>106S</td>\n",
       "      <td>1</td>\n",
       "      <td>90.0</td>\n",
       "      <td>231 St</td>\n",
       "      <td>40.878856</td>\n",
       "      <td>-73.904834</td>\n",
       "      <td>Marble Hill - 225 St</td>\n",
       "      <td>40.874561</td>\n",
       "      <td>-73.909831</td>\n",
       "    </tr>\n",
       "  </tbody>\n",
       "</table>\n",
       "</div>"
      ],
      "text/plain": [
       "  from_stop_id to_stop_id train  duration               from_stop_name  \\\n",
       "0         101S       103S     1      90.0  Van Cortlandt Park - 242 St   \n",
       "1         103N       101N     1      90.0                       238 St   \n",
       "2         103S       104S     1      90.0                       238 St   \n",
       "3         104N       103N     1      90.0                       231 St   \n",
       "4         104S       106S     1      90.0                       231 St   \n",
       "\n",
       "   from_stop_lat  from_stop_lon                 to_stop_name  to_stop_lat  \\\n",
       "0      40.889248     -73.898583                       238 St    40.884667   \n",
       "1      40.884667     -73.900870  Van Cortlandt Park - 242 St    40.889248   \n",
       "2      40.884667     -73.900870                       231 St    40.878856   \n",
       "3      40.878856     -73.904834                       238 St    40.884667   \n",
       "4      40.878856     -73.904834         Marble Hill - 225 St    40.874561   \n",
       "\n",
       "   to_stop_lon  \n",
       "0   -73.900870  \n",
       "1   -73.898583  \n",
       "2   -73.904834  \n",
       "3   -73.900870  \n",
       "4   -73.909831  "
      ]
     },
     "execution_count": 539,
     "metadata": {},
     "output_type": "execute_result"
    }
   ],
   "source": [
    "duration.head()"
   ]
  },
  {
   "cell_type": "code",
   "execution_count": 37,
   "metadata": {
    "collapsed": true
   },
   "outputs": [],
   "source": [
    "duration.to_csv('cleaned_data/duration_between_stops(morning_rush_hour)')"
   ]
  },
  {
   "cell_type": "markdown",
   "metadata": {},
   "source": [
    "## FUNCTION FOR FINDING SCHEDULE OF ANY TIME ANY DAY"
   ]
  },
  {
   "cell_type": "code",
   "execution_count": 12,
   "metadata": {
    "collapsed": true
   },
   "outputs": [],
   "source": [
    "def find_duration(time1,time2,day='WKD'):\n",
    "    \"\"\"\n",
    "    This funtion is used to get time duration between stops \n",
    "    based on different schedule of time of day.\n",
    "    \n",
    "    (time1,time2) defines train departure time at first stop between time1 and time 2\n",
    "    time1 = 0,1,2,...,23\n",
    "    time2 = 0,1,2,...,23\n",
    "    eg. time1=7,time2=10, then train departure between 7:00:00 and 9:59:59 count\n",
    "    day = 'WKD', 'SAT' or 'SUN'\n",
    "    \"\"\"\n",
    "    ## read stop_times data and prepare it\n",
    "    stop_times = pd.read_csv('GTFS_nyc_Subway/stop_times.txt')\n",
    "\n",
    "    stop_times['service_id']=stop_times['trip_id'].apply(lambda x: x.split('_')[0])\n",
    "    stop_times['sub_trip_id']=stop_times['trip_id'].apply(lambda x: x.split('_')[1])\n",
    "    stop_times['train+direction']=stop_times['trip_id'].apply(lambda x: x.split('_')[2])\n",
    "    del stop_times['stop_headsign']\n",
    "    del stop_times['pickup_type']\n",
    "    del stop_times['drop_off_type']\n",
    "    del stop_times['shape_dist_traveled']\n",
    "    stop_times['train'] = stop_times['train+direction'].apply(lambda x: x.split('.')[0])\n",
    "    stop_times['day'] = stop_times['service_id'].apply(lambda x: x[-3:])\n",
    "    \n",
    "    stop_times = stop_times[stop_times['day']==day]\n",
    "    \n",
    "    \n",
    "    ## get all the sub_trip_id departures from the 1st stops between time1 and time2\n",
    "    morning_rush_trip_id = stop_times[(stop_times['stop_sequence']==1)&\n",
    "                                   stop_times['arrival_time'].isin(\n",
    "                                        filter(lambda x: (int(x[:2])>=time1)&\n",
    "                                       (int(x[:2])<time2),stop_times['arrival_time']))]['sub_trip_id']\n",
    "    \n",
    "    ## get all the schedule of all sub_trip \n",
    "    morning_rush = stop_times[stop_times['sub_trip_id'].isin(morning_rush_trip_id)]\n",
    "    morning_rush['arrival_time'] = pd.to_datetime(morning_rush['arrival_time'])\n",
    "    \n",
    "    ## get all the route id within the time period\n",
    "    start = morning_rush[morning_rush['stop_sequence']==1]\n",
    "    morning_rush_route =  list(set(morning_rush['train+direction'].values))\n",
    "    \n",
    "    ## get length of all the route, for next step purpose-- get the sequence of the route\n",
    "    route_len = {}\n",
    "    for route in morning_rush_route:\n",
    "        if route_len.get(route)==None:\n",
    "            route_len[route]= morning_rush[morning_rush['train+direction'] == route]['stop_sequence'].max()\n",
    "        else:\n",
    "            pass\n",
    "    \n",
    "    ## get schedule of all the routes run within the time period\n",
    "    duration=pd.DataFrame(columns=['from_stop_id','to_stop_id','duration','route'])\n",
    "    for i in route_len.keys():\n",
    "        df = morning_rush[morning_rush['train+direction']==i].iloc[:route_len[i]]\n",
    "        duration_1=pd.DataFrame(columns=['from_stop_id','to_stop_id','duration'])\n",
    "        duration_1['from_stop_id'] = df['stop_id'][:-1].values\n",
    "        duration_1['to_stop_id'] = df['stop_id'][1:].values\n",
    "        duration_1['duration']=map(dt.timedelta.total_seconds,(df['arrival_time'][1:].values-df['arrival_time'][:-1]))\n",
    "        duration_1['route'] = df['train+direction'].values[:-1]\n",
    "        duration = pd.concat([duration,duration_1])\n",
    "        \n",
    "    ## occasionally, duration between two stops by same train is different from different route\n",
    "    ## so I use mean to replace all the duplicates\n",
    "    duration['train'] = map(lambda x:x.split('.')[0],duration['route'])\n",
    "    duration = pd.DataFrame(duration.groupby(['from_stop_id',\n",
    "                               'to_stop_id',\n",
    "                               'train'])['duration'].mean()).reset_index()\n",
    "    \n",
    "    ## read stops data and merge stops name and geo info with duration dataframe\n",
    "    stops = pd.read_csv('GTFS_nyc_Subway/stops.txt')\n",
    "    \n",
    "    duration = duration.merge(stops.rename(columns={'stop_id':'from_stop_id',\n",
    "                    \"stop_name\":'from_stop_name',\n",
    "                     \"stop_lat\":'from_stop_lat',\n",
    "                     \"stop_lon\":'from_stop_lon'})[['from_stop_id','from_stop_name','from_stop_lat','from_stop_lon']],\n",
    "              on = 'from_stop_id',how = 'left')\n",
    "    duration = duration.merge(stops.rename(columns={'stop_id':'to_stop_id',\n",
    "                    \"stop_name\":'to_stop_name',\n",
    "                     \"stop_lat\":'to_stop_lat',\n",
    "                     \"stop_lon\":'to_stop_lon'})[['to_stop_id','to_stop_name','to_stop_lat','to_stop_lon']],\n",
    "              on = 'to_stop_id',how = 'left')\n",
    "    return duration"
   ]
  },
  {
   "cell_type": "code",
   "execution_count": 38,
   "metadata": {
    "collapsed": false
   },
   "outputs": [
    {
     "name": "stderr",
     "output_type": "stream",
     "text": [
      "/anaconda/lib/python2.7/site-packages/ipykernel/__main__.py:36: SettingWithCopyWarning: \n",
      "A value is trying to be set on a copy of a slice from a DataFrame.\n",
      "Try using .loc[row_indexer,col_indexer] = value instead\n",
      "\n",
      "See the caveats in the documentation: http://pandas.pydata.org/pandas-docs/stable/indexing.html#indexing-view-versus-copy\n"
     ]
    }
   ],
   "source": [
    "duration = find_duration(7,10)"
   ]
  },
  {
   "cell_type": "code",
   "execution_count": 36,
   "metadata": {
    "collapsed": false
   },
   "outputs": [
    {
     "data": {
      "text/html": [
       "<div>\n",
       "<style>\n",
       "    .dataframe thead tr:only-child th {\n",
       "        text-align: right;\n",
       "    }\n",
       "\n",
       "    .dataframe thead th {\n",
       "        text-align: left;\n",
       "    }\n",
       "\n",
       "    .dataframe tbody tr th {\n",
       "        vertical-align: top;\n",
       "    }\n",
       "</style>\n",
       "<table border=\"1\" class=\"dataframe\">\n",
       "  <thead>\n",
       "    <tr style=\"text-align: right;\">\n",
       "      <th></th>\n",
       "      <th>from_stop_id</th>\n",
       "      <th>to_stop_id</th>\n",
       "      <th>train</th>\n",
       "      <th>duration</th>\n",
       "      <th>from_stop_name</th>\n",
       "      <th>from_stop_lat</th>\n",
       "      <th>from_stop_lon</th>\n",
       "      <th>to_stop_name</th>\n",
       "      <th>to_stop_lat</th>\n",
       "      <th>to_stop_lon</th>\n",
       "    </tr>\n",
       "  </thead>\n",
       "  <tbody>\n",
       "    <tr>\n",
       "      <th>0</th>\n",
       "      <td>101S</td>\n",
       "      <td>103S</td>\n",
       "      <td>1</td>\n",
       "      <td>90.0</td>\n",
       "      <td>Van Cortlandt Park - 242 St</td>\n",
       "      <td>40.889248</td>\n",
       "      <td>-73.898583</td>\n",
       "      <td>238 St</td>\n",
       "      <td>40.884667</td>\n",
       "      <td>-73.900870</td>\n",
       "    </tr>\n",
       "    <tr>\n",
       "      <th>1</th>\n",
       "      <td>103N</td>\n",
       "      <td>101N</td>\n",
       "      <td>1</td>\n",
       "      <td>90.0</td>\n",
       "      <td>238 St</td>\n",
       "      <td>40.884667</td>\n",
       "      <td>-73.900870</td>\n",
       "      <td>Van Cortlandt Park - 242 St</td>\n",
       "      <td>40.889248</td>\n",
       "      <td>-73.898583</td>\n",
       "    </tr>\n",
       "    <tr>\n",
       "      <th>2</th>\n",
       "      <td>103S</td>\n",
       "      <td>104S</td>\n",
       "      <td>1</td>\n",
       "      <td>90.0</td>\n",
       "      <td>238 St</td>\n",
       "      <td>40.884667</td>\n",
       "      <td>-73.900870</td>\n",
       "      <td>231 St</td>\n",
       "      <td>40.878856</td>\n",
       "      <td>-73.904834</td>\n",
       "    </tr>\n",
       "    <tr>\n",
       "      <th>3</th>\n",
       "      <td>104N</td>\n",
       "      <td>103N</td>\n",
       "      <td>1</td>\n",
       "      <td>90.0</td>\n",
       "      <td>231 St</td>\n",
       "      <td>40.878856</td>\n",
       "      <td>-73.904834</td>\n",
       "      <td>238 St</td>\n",
       "      <td>40.884667</td>\n",
       "      <td>-73.900870</td>\n",
       "    </tr>\n",
       "    <tr>\n",
       "      <th>4</th>\n",
       "      <td>104S</td>\n",
       "      <td>106S</td>\n",
       "      <td>1</td>\n",
       "      <td>90.0</td>\n",
       "      <td>231 St</td>\n",
       "      <td>40.878856</td>\n",
       "      <td>-73.904834</td>\n",
       "      <td>Marble Hill - 225 St</td>\n",
       "      <td>40.874561</td>\n",
       "      <td>-73.909831</td>\n",
       "    </tr>\n",
       "  </tbody>\n",
       "</table>\n",
       "</div>"
      ],
      "text/plain": [
       "  from_stop_id to_stop_id train  duration               from_stop_name  \\\n",
       "0         101S       103S     1      90.0  Van Cortlandt Park - 242 St   \n",
       "1         103N       101N     1      90.0                       238 St   \n",
       "2         103S       104S     1      90.0                       238 St   \n",
       "3         104N       103N     1      90.0                       231 St   \n",
       "4         104S       106S     1      90.0                       231 St   \n",
       "\n",
       "   from_stop_lat  from_stop_lon                 to_stop_name  to_stop_lat  \\\n",
       "0      40.889248     -73.898583                       238 St    40.884667   \n",
       "1      40.884667     -73.900870  Van Cortlandt Park - 242 St    40.889248   \n",
       "2      40.884667     -73.900870                       231 St    40.878856   \n",
       "3      40.878856     -73.904834                       238 St    40.884667   \n",
       "4      40.878856     -73.904834         Marble Hill - 225 St    40.874561   \n",
       "\n",
       "   to_stop_lon  \n",
       "0   -73.900870  \n",
       "1   -73.898583  \n",
       "2   -73.904834  \n",
       "3   -73.900870  \n",
       "4   -73.909831  "
      ]
     },
     "execution_count": 36,
     "metadata": {},
     "output_type": "execute_result"
    }
   ],
   "source": [
    "duration.head()"
   ]
  }
 ],
 "metadata": {
  "anaconda-cloud": {},
  "kernelspec": {
   "display_name": "Python [conda root]",
   "language": "python",
   "name": "conda-root-py"
  },
  "language_info": {
   "codemirror_mode": {
    "name": "ipython",
    "version": 2
   },
   "file_extension": ".py",
   "mimetype": "text/x-python",
   "name": "python",
   "nbconvert_exporter": "python",
   "pygments_lexer": "ipython2",
   "version": "2.7.12"
  }
 },
 "nbformat": 4,
 "nbformat_minor": 2
}
