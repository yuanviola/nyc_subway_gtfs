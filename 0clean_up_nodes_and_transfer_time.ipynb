{
 "cells": [
  {
   "cell_type": "code",
   "execution_count": 1,
   "metadata": {
    "collapsed": true
   },
   "outputs": [],
   "source": [
    "import pandas as pd "
   ]
  },
  {
   "cell_type": "code",
   "execution_count": 2,
   "metadata": {
    "collapsed": false
   },
   "outputs": [],
   "source": [
    "transfer= pd.DataFrame.from_csv('../GTFS_nyc_Subway/transfers.txt')\n",
    "transfer  = transfer.reset_index()\n",
    "transfer.head(2)"
   ]
  },
  {
   "cell_type": "code",
   "execution_count": 7,
   "metadata": {
    "collapsed": false
   },
   "outputs": [],
   "source": [
    "transfer['from_stop']=None\n",
    "transfer['to_stop']=None"
   ]
  },
  {
   "cell_type": "code",
   "execution_count": 9,
   "metadata": {
    "collapsed": false
   },
   "outputs": [
    {
     "data": {
      "text/html": [
       "<div>\n",
       "<style>\n",
       "    .dataframe thead tr:only-child th {\n",
       "        text-align: right;\n",
       "    }\n",
       "\n",
       "    .dataframe thead th {\n",
       "        text-align: left;\n",
       "    }\n",
       "\n",
       "    .dataframe tbody tr th {\n",
       "        vertical-align: top;\n",
       "    }\n",
       "</style>\n",
       "<table border=\"1\" class=\"dataframe\">\n",
       "  <thead>\n",
       "    <tr style=\"text-align: right;\">\n",
       "      <th></th>\n",
       "      <th>from_stop_id</th>\n",
       "      <th>to_stop_id</th>\n",
       "      <th>transfer_type</th>\n",
       "      <th>min_transfer_time</th>\n",
       "      <th>from_stop</th>\n",
       "      <th>to_stop</th>\n",
       "    </tr>\n",
       "  </thead>\n",
       "  <tbody>\n",
       "    <tr>\n",
       "      <th>0</th>\n",
       "      <td>101</td>\n",
       "      <td>101</td>\n",
       "      <td>2</td>\n",
       "      <td>180</td>\n",
       "      <td>None</td>\n",
       "      <td>None</td>\n",
       "    </tr>\n",
       "    <tr>\n",
       "      <th>1</th>\n",
       "      <td>103</td>\n",
       "      <td>103</td>\n",
       "      <td>2</td>\n",
       "      <td>180</td>\n",
       "      <td>None</td>\n",
       "      <td>None</td>\n",
       "    </tr>\n",
       "  </tbody>\n",
       "</table>\n",
       "</div>"
      ],
      "text/plain": [
       "  from_stop_id to_stop_id  transfer_type  min_transfer_time from_stop to_stop\n",
       "0          101        101              2                180      None    None\n",
       "1          103        103              2                180      None    None"
      ]
     },
     "execution_count": 9,
     "metadata": {},
     "output_type": "execute_result"
    }
   ],
   "source": [
    "transfer.head(2)"
   ]
  },
  {
   "cell_type": "markdown",
   "metadata": {},
   "source": [
    "#### get the name of stations"
   ]
  },
  {
   "cell_type": "code",
   "execution_count": 10,
   "metadata": {
    "collapsed": false
   },
   "outputs": [],
   "source": [
    "stops = pd.read_csv('../GTFS_nyc_Subway/stops.txt').reset_index()"
   ]
  },
  {
   "cell_type": "code",
   "execution_count": 11,
   "metadata": {
    "collapsed": false
   },
   "outputs": [
    {
     "data": {
      "text/html": [
       "<div>\n",
       "<style>\n",
       "    .dataframe thead tr:only-child th {\n",
       "        text-align: right;\n",
       "    }\n",
       "\n",
       "    .dataframe thead th {\n",
       "        text-align: left;\n",
       "    }\n",
       "\n",
       "    .dataframe tbody tr th {\n",
       "        vertical-align: top;\n",
       "    }\n",
       "</style>\n",
       "<table border=\"1\" class=\"dataframe\">\n",
       "  <thead>\n",
       "    <tr style=\"text-align: right;\">\n",
       "      <th></th>\n",
       "      <th>index</th>\n",
       "      <th>stop_id</th>\n",
       "      <th>stop_code</th>\n",
       "      <th>stop_name</th>\n",
       "      <th>stop_desc</th>\n",
       "      <th>stop_lat</th>\n",
       "      <th>stop_lon</th>\n",
       "      <th>zone_id</th>\n",
       "      <th>stop_url</th>\n",
       "      <th>location_type</th>\n",
       "      <th>parent_station</th>\n",
       "    </tr>\n",
       "  </thead>\n",
       "  <tbody>\n",
       "    <tr>\n",
       "      <th>0</th>\n",
       "      <td>0</td>\n",
       "      <td>101</td>\n",
       "      <td>NaN</td>\n",
       "      <td>Van Cortlandt Park - 242 St</td>\n",
       "      <td>NaN</td>\n",
       "      <td>40.889248</td>\n",
       "      <td>-73.898583</td>\n",
       "      <td>NaN</td>\n",
       "      <td>NaN</td>\n",
       "      <td>1</td>\n",
       "      <td>NaN</td>\n",
       "    </tr>\n",
       "  </tbody>\n",
       "</table>\n",
       "</div>"
      ],
      "text/plain": [
       "   index stop_id  stop_code                    stop_name  stop_desc  \\\n",
       "0      0     101        NaN  Van Cortlandt Park - 242 St        NaN   \n",
       "\n",
       "    stop_lat   stop_lon  zone_id  stop_url  location_type parent_station  \n",
       "0  40.889248 -73.898583      NaN       NaN              1            NaN  "
      ]
     },
     "execution_count": 11,
     "metadata": {},
     "output_type": "execute_result"
    }
   ],
   "source": [
    "stops.head(1)"
   ]
  },
  {
   "cell_type": "code",
   "execution_count": 12,
   "metadata": {
    "collapsed": true
   },
   "outputs": [],
   "source": [
    "for i in range(len(transfer)):\n",
    "    from_id = transfer.iloc[i,0]\n",
    "    to_id = transfer.iloc[i,1]\n",
    "    try:\n",
    "        transfer.iloc[i,4] = stops[stops['stop_id']==from_id]['stop_name'].values[0]\n",
    "    except IndexError:\n",
    "        print from_id\n",
    "        \n",
    "    try:\n",
    "        transfer.iloc[i,5] = stops[stops['stop_id']==to_id]['stop_name'].values[0]\n",
    "    except IndexError:\n",
    "        print to_id"
   ]
  },
  {
   "cell_type": "code",
   "execution_count": 13,
   "metadata": {
    "collapsed": false
   },
   "outputs": [
    {
     "data": {
      "text/html": [
       "<div>\n",
       "<style>\n",
       "    .dataframe thead tr:only-child th {\n",
       "        text-align: right;\n",
       "    }\n",
       "\n",
       "    .dataframe thead th {\n",
       "        text-align: left;\n",
       "    }\n",
       "\n",
       "    .dataframe tbody tr th {\n",
       "        vertical-align: top;\n",
       "    }\n",
       "</style>\n",
       "<table border=\"1\" class=\"dataframe\">\n",
       "  <thead>\n",
       "    <tr style=\"text-align: right;\">\n",
       "      <th></th>\n",
       "      <th>from_stop_id</th>\n",
       "      <th>to_stop_id</th>\n",
       "      <th>transfer_type</th>\n",
       "      <th>min_transfer_time</th>\n",
       "      <th>from_stop</th>\n",
       "      <th>to_stop</th>\n",
       "    </tr>\n",
       "  </thead>\n",
       "  <tbody>\n",
       "    <tr>\n",
       "      <th>10</th>\n",
       "      <td>112</td>\n",
       "      <td>A09</td>\n",
       "      <td>2</td>\n",
       "      <td>180</td>\n",
       "      <td>168 St - Washington Hts</td>\n",
       "      <td>168 St</td>\n",
       "    </tr>\n",
       "    <tr>\n",
       "      <th>29</th>\n",
       "      <td>127</td>\n",
       "      <td>A27</td>\n",
       "      <td>2</td>\n",
       "      <td>300</td>\n",
       "      <td>Times Sq - 42 St</td>\n",
       "      <td>42 St - Port Authority Bus Terminal</td>\n",
       "    </tr>\n",
       "    <tr>\n",
       "      <th>37</th>\n",
       "      <td>132</td>\n",
       "      <td>L02</td>\n",
       "      <td>2</td>\n",
       "      <td>180</td>\n",
       "      <td>14 St</td>\n",
       "      <td>6 Av</td>\n",
       "    </tr>\n",
       "  </tbody>\n",
       "</table>\n",
       "</div>"
      ],
      "text/plain": [
       "   from_stop_id to_stop_id  transfer_type  min_transfer_time  \\\n",
       "10          112        A09              2                180   \n",
       "29          127        A27              2                300   \n",
       "37          132        L02              2                180   \n",
       "\n",
       "                  from_stop                              to_stop  \n",
       "10  168 St - Washington Hts                               168 St  \n",
       "29         Times Sq - 42 St  42 St - Port Authority Bus Terminal  \n",
       "37                    14 St                                 6 Av  "
      ]
     },
     "execution_count": 13,
     "metadata": {},
     "output_type": "execute_result"
    }
   ],
   "source": [
    "transfer[transfer['from_stop']!=transfer['to_stop']].head(3)"
   ]
  },
  {
   "cell_type": "markdown",
   "metadata": {},
   "source": [
    "#### so this transfer data includes those transfer between two stations"
   ]
  },
  {
   "cell_type": "markdown",
   "metadata": {},
   "source": [
    "## get info about line-line"
   ]
  },
  {
   "cell_type": "code",
   "execution_count": 14,
   "metadata": {
    "collapsed": false
   },
   "outputs": [],
   "source": [
    "transfer['from_line']=None\n",
    "transfer['to_line']=None"
   ]
  },
  {
   "cell_type": "code",
   "execution_count": 15,
   "metadata": {
    "collapsed": false
   },
   "outputs": [
    {
     "data": {
      "text/html": [
       "<div>\n",
       "<style>\n",
       "    .dataframe thead tr:only-child th {\n",
       "        text-align: right;\n",
       "    }\n",
       "\n",
       "    .dataframe thead th {\n",
       "        text-align: left;\n",
       "    }\n",
       "\n",
       "    .dataframe tbody tr th {\n",
       "        vertical-align: top;\n",
       "    }\n",
       "</style>\n",
       "<table border=\"1\" class=\"dataframe\">\n",
       "  <thead>\n",
       "    <tr style=\"text-align: right;\">\n",
       "      <th></th>\n",
       "      <th>from_stop_id</th>\n",
       "      <th>to_stop_id</th>\n",
       "      <th>transfer_type</th>\n",
       "      <th>min_transfer_time</th>\n",
       "      <th>from_stop</th>\n",
       "      <th>to_stop</th>\n",
       "      <th>from_line</th>\n",
       "      <th>to_line</th>\n",
       "    </tr>\n",
       "  </thead>\n",
       "  <tbody>\n",
       "    <tr>\n",
       "      <th>0</th>\n",
       "      <td>101</td>\n",
       "      <td>101</td>\n",
       "      <td>2</td>\n",
       "      <td>180</td>\n",
       "      <td>Van Cortlandt Park - 242 St</td>\n",
       "      <td>Van Cortlandt Park - 242 St</td>\n",
       "      <td>None</td>\n",
       "      <td>None</td>\n",
       "    </tr>\n",
       "    <tr>\n",
       "      <th>1</th>\n",
       "      <td>103</td>\n",
       "      <td>103</td>\n",
       "      <td>2</td>\n",
       "      <td>180</td>\n",
       "      <td>238 St</td>\n",
       "      <td>238 St</td>\n",
       "      <td>None</td>\n",
       "      <td>None</td>\n",
       "    </tr>\n",
       "  </tbody>\n",
       "</table>\n",
       "</div>"
      ],
      "text/plain": [
       "  from_stop_id to_stop_id  transfer_type  min_transfer_time  \\\n",
       "0          101        101              2                180   \n",
       "1          103        103              2                180   \n",
       "\n",
       "                     from_stop                      to_stop from_line to_line  \n",
       "0  Van Cortlandt Park - 242 St  Van Cortlandt Park - 242 St      None    None  \n",
       "1                       238 St                       238 St      None    None  "
      ]
     },
     "execution_count": 15,
     "metadata": {},
     "output_type": "execute_result"
    }
   ],
   "source": [
    "transfer.head(2)"
   ]
  },
  {
   "cell_type": "code",
   "execution_count": 17,
   "metadata": {
    "collapsed": false
   },
   "outputs": [],
   "source": [
    "stations = pd.read_csv('../../data/nyc_subway_Stations_location_20170307.csv')"
   ]
  },
  {
   "cell_type": "code",
   "execution_count": 19,
   "metadata": {
    "collapsed": false
   },
   "outputs": [
    {
     "data": {
      "text/html": [
       "<div>\n",
       "<style>\n",
       "    .dataframe thead tr:only-child th {\n",
       "        text-align: right;\n",
       "    }\n",
       "\n",
       "    .dataframe thead th {\n",
       "        text-align: left;\n",
       "    }\n",
       "\n",
       "    .dataframe tbody tr th {\n",
       "        vertical-align: top;\n",
       "    }\n",
       "</style>\n",
       "<table border=\"1\" class=\"dataframe\">\n",
       "  <thead>\n",
       "    <tr style=\"text-align: right;\">\n",
       "      <th></th>\n",
       "      <th>Station ID</th>\n",
       "      <th>Complex ID</th>\n",
       "      <th>GTFS Stop ID</th>\n",
       "      <th>Division</th>\n",
       "      <th>Line</th>\n",
       "      <th>Stop Name</th>\n",
       "      <th>Borough</th>\n",
       "      <th>Daytime Routes</th>\n",
       "      <th>Structure</th>\n",
       "      <th>GTFS Latitude</th>\n",
       "      <th>GTFS Longitude</th>\n",
       "    </tr>\n",
       "  </thead>\n",
       "  <tbody>\n",
       "    <tr>\n",
       "      <th>0</th>\n",
       "      <td>1</td>\n",
       "      <td>1</td>\n",
       "      <td>R01</td>\n",
       "      <td>BMT</td>\n",
       "      <td>Astoria</td>\n",
       "      <td>Astoria - Ditmars Blvd</td>\n",
       "      <td>Q</td>\n",
       "      <td>N W</td>\n",
       "      <td>Elevated</td>\n",
       "      <td>40.775036</td>\n",
       "      <td>-73.912034</td>\n",
       "    </tr>\n",
       "    <tr>\n",
       "      <th>1</th>\n",
       "      <td>2</td>\n",
       "      <td>2</td>\n",
       "      <td>R03</td>\n",
       "      <td>BMT</td>\n",
       "      <td>Astoria</td>\n",
       "      <td>Astoria Blvd</td>\n",
       "      <td>Q</td>\n",
       "      <td>N W</td>\n",
       "      <td>Elevated</td>\n",
       "      <td>40.770258</td>\n",
       "      <td>-73.917843</td>\n",
       "    </tr>\n",
       "  </tbody>\n",
       "</table>\n",
       "</div>"
      ],
      "text/plain": [
       "   Station ID  Complex ID GTFS Stop ID Division     Line  \\\n",
       "0           1           1          R01      BMT  Astoria   \n",
       "1           2           2          R03      BMT  Astoria   \n",
       "\n",
       "                Stop Name Borough Daytime Routes Structure  GTFS Latitude  \\\n",
       "0  Astoria - Ditmars Blvd       Q            N W  Elevated      40.775036   \n",
       "1            Astoria Blvd       Q            N W  Elevated      40.770258   \n",
       "\n",
       "   GTFS Longitude  \n",
       "0      -73.912034  \n",
       "1      -73.917843  "
      ]
     },
     "execution_count": 19,
     "metadata": {},
     "output_type": "execute_result"
    }
   ],
   "source": [
    "stations.head(2)"
   ]
  },
  {
   "cell_type": "code",
   "execution_count": 20,
   "metadata": {
    "collapsed": false
   },
   "outputs": [
    {
     "name": "stdout",
     "output_type": "stream",
     "text": [
      "207 to_id:  R09\n",
      "241 to_id:  D13\n",
      "264 to_id:  D20\n",
      "332 from_id:  D13\n",
      "333 from_id:  D13\n",
      "333 to_id:  D13\n",
      "344 from_id:  D20\n",
      "345 from_id:  D20\n",
      "345 to_id:  D20\n",
      "553 from_id:  R09\n",
      "554 from_id:  R09\n",
      "554 to_id:  R09\n"
     ]
    }
   ],
   "source": [
    "for i in range(len(transfer)):\n",
    "    from_id = transfer.iloc[i,0]\n",
    "    to_id = transfer.iloc[i,1]\n",
    "    try:\n",
    "        transfer.iloc[i,6] = stations[stations['GTFS Stop ID']==from_id]['Daytime Routes'].values[0]\n",
    "    except IndexError:\n",
    "        print i,'from_id: ',from_id\n",
    "        \n",
    "    try:\n",
    "        transfer.iloc[i,7] = stations[stations['GTFS Stop ID']==to_id]['Daytime Routes'].values[0]\n",
    "    except IndexError:\n",
    "        print i,'to_id: ',to_id"
   ]
  },
  {
   "cell_type": "code",
   "execution_count": 71,
   "metadata": {
    "collapsed": false
   },
   "outputs": [],
   "source": [
    "transfer.loc[[206,207],['from_line']]='7'\n",
    "transfer.loc[[553,554],['from_line']]='N W'\n",
    "\n",
    "transfer.loc[[206,553],['to_line']]='7'\n",
    "transfer.loc[[207,554],['to_line']]='N W'\n",
    "\n",
    "transfer.loc[554,'min_transfer_time']=0"
   ]
  },
  {
   "cell_type": "code",
   "execution_count": 72,
   "metadata": {
    "collapsed": false
   },
   "outputs": [
    {
     "data": {
      "text/html": [
       "<div>\n",
       "<style>\n",
       "    .dataframe thead tr:only-child th {\n",
       "        text-align: right;\n",
       "    }\n",
       "\n",
       "    .dataframe thead th {\n",
       "        text-align: left;\n",
       "    }\n",
       "\n",
       "    .dataframe tbody tr th {\n",
       "        vertical-align: top;\n",
       "    }\n",
       "</style>\n",
       "<table border=\"1\" class=\"dataframe\">\n",
       "  <thead>\n",
       "    <tr style=\"text-align: right;\">\n",
       "      <th></th>\n",
       "      <th>from_stop_id</th>\n",
       "      <th>to_stop_id</th>\n",
       "      <th>transfer_type</th>\n",
       "      <th>min_transfer_time</th>\n",
       "      <th>from_stop</th>\n",
       "      <th>to_stop</th>\n",
       "      <th>from_line</th>\n",
       "      <th>to_line</th>\n",
       "    </tr>\n",
       "  </thead>\n",
       "  <tbody>\n",
       "    <tr>\n",
       "      <th>206</th>\n",
       "      <td>718</td>\n",
       "      <td>718</td>\n",
       "      <td>2</td>\n",
       "      <td>0</td>\n",
       "      <td>Queensboro Plaza</td>\n",
       "      <td>Queensboro Plaza</td>\n",
       "      <td>7</td>\n",
       "      <td>7</td>\n",
       "    </tr>\n",
       "    <tr>\n",
       "      <th>207</th>\n",
       "      <td>718</td>\n",
       "      <td>R09</td>\n",
       "      <td>2</td>\n",
       "      <td>0</td>\n",
       "      <td>Queensboro Plaza</td>\n",
       "      <td>Queensboro Plaza</td>\n",
       "      <td>7</td>\n",
       "      <td>N W</td>\n",
       "    </tr>\n",
       "    <tr>\n",
       "      <th>553</th>\n",
       "      <td>R09</td>\n",
       "      <td>718</td>\n",
       "      <td>2</td>\n",
       "      <td>0</td>\n",
       "      <td>Queensboro Plaza</td>\n",
       "      <td>Queensboro Plaza</td>\n",
       "      <td>N W</td>\n",
       "      <td>7</td>\n",
       "    </tr>\n",
       "    <tr>\n",
       "      <th>554</th>\n",
       "      <td>R09</td>\n",
       "      <td>R09</td>\n",
       "      <td>2</td>\n",
       "      <td>0</td>\n",
       "      <td>Queensboro Plaza</td>\n",
       "      <td>Queensboro Plaza</td>\n",
       "      <td>N W</td>\n",
       "      <td>N W</td>\n",
       "    </tr>\n",
       "  </tbody>\n",
       "</table>\n",
       "</div>"
      ],
      "text/plain": [
       "    from_stop_id to_stop_id  transfer_type  min_transfer_time  \\\n",
       "206          718        718              2                  0   \n",
       "207          718        R09              2                  0   \n",
       "553          R09        718              2                  0   \n",
       "554          R09        R09              2                  0   \n",
       "\n",
       "            from_stop           to_stop from_line to_line  \n",
       "206  Queensboro Plaza  Queensboro Plaza         7       7  \n",
       "207  Queensboro Plaza  Queensboro Plaza         7     N W  \n",
       "553  Queensboro Plaza  Queensboro Plaza       N W       7  \n",
       "554  Queensboro Plaza  Queensboro Plaza       N W     N W  "
      ]
     },
     "execution_count": 72,
     "metadata": {},
     "output_type": "execute_result"
    }
   ],
   "source": [
    "transfer.iloc[[206,207,553,554]]"
   ]
  },
  {
   "cell_type": "code",
   "execution_count": 38,
   "metadata": {
    "collapsed": false
   },
   "outputs": [],
   "source": [
    "transfer.loc[[207,554],['to_line']]='7 N W'\n",
    "transfer.loc[[553,554],['from_line']]='7 N W'"
   ]
  },
  {
   "cell_type": "code",
   "execution_count": 54,
   "metadata": {
    "collapsed": true
   },
   "outputs": [],
   "source": [
    "transfer.loc[[240,241],['from_line']]='A C'\n",
    "transfer.loc[[332,333],['from_line']]='B D'\n",
    "\n",
    "transfer.loc[[240,332],['to_line']]='A C'\n",
    "transfer.loc[[241,333],['to_line']]='B D'"
   ]
  },
  {
   "cell_type": "code",
   "execution_count": 55,
   "metadata": {
    "collapsed": false
   },
   "outputs": [
    {
     "data": {
      "text/html": [
       "<div>\n",
       "<style>\n",
       "    .dataframe thead tr:only-child th {\n",
       "        text-align: right;\n",
       "    }\n",
       "\n",
       "    .dataframe thead th {\n",
       "        text-align: left;\n",
       "    }\n",
       "\n",
       "    .dataframe tbody tr th {\n",
       "        vertical-align: top;\n",
       "    }\n",
       "</style>\n",
       "<table border=\"1\" class=\"dataframe\">\n",
       "  <thead>\n",
       "    <tr style=\"text-align: right;\">\n",
       "      <th></th>\n",
       "      <th>from_stop_id</th>\n",
       "      <th>to_stop_id</th>\n",
       "      <th>transfer_type</th>\n",
       "      <th>min_transfer_time</th>\n",
       "      <th>from_stop</th>\n",
       "      <th>to_stop</th>\n",
       "      <th>from_line</th>\n",
       "      <th>to_line</th>\n",
       "    </tr>\n",
       "  </thead>\n",
       "  <tbody>\n",
       "    <tr>\n",
       "      <th>240</th>\n",
       "      <td>A12</td>\n",
       "      <td>A12</td>\n",
       "      <td>2</td>\n",
       "      <td>0</td>\n",
       "      <td>145 St</td>\n",
       "      <td>145 St</td>\n",
       "      <td>A C</td>\n",
       "      <td>A C</td>\n",
       "    </tr>\n",
       "    <tr>\n",
       "      <th>241</th>\n",
       "      <td>A12</td>\n",
       "      <td>D13</td>\n",
       "      <td>2</td>\n",
       "      <td>180</td>\n",
       "      <td>145 St</td>\n",
       "      <td>145 St</td>\n",
       "      <td>A C</td>\n",
       "      <td>B D</td>\n",
       "    </tr>\n",
       "    <tr>\n",
       "      <th>332</th>\n",
       "      <td>D13</td>\n",
       "      <td>A12</td>\n",
       "      <td>2</td>\n",
       "      <td>180</td>\n",
       "      <td>145 St</td>\n",
       "      <td>145 St</td>\n",
       "      <td>B D</td>\n",
       "      <td>A C</td>\n",
       "    </tr>\n",
       "    <tr>\n",
       "      <th>333</th>\n",
       "      <td>D13</td>\n",
       "      <td>D13</td>\n",
       "      <td>2</td>\n",
       "      <td>0</td>\n",
       "      <td>145 St</td>\n",
       "      <td>145 St</td>\n",
       "      <td>B D</td>\n",
       "      <td>B D</td>\n",
       "    </tr>\n",
       "  </tbody>\n",
       "</table>\n",
       "</div>"
      ],
      "text/plain": [
       "    from_stop_id to_stop_id  transfer_type  min_transfer_time from_stop  \\\n",
       "240          A12        A12              2                  0    145 St   \n",
       "241          A12        D13              2                180    145 St   \n",
       "332          D13        A12              2                180    145 St   \n",
       "333          D13        D13              2                  0    145 St   \n",
       "\n",
       "    to_stop from_line to_line  \n",
       "240  145 St       A C     A C  \n",
       "241  145 St       A C     B D  \n",
       "332  145 St       B D     A C  \n",
       "333  145 St       B D     B D  "
      ]
     },
     "execution_count": 55,
     "metadata": {},
     "output_type": "execute_result"
    }
   ],
   "source": [
    "transfer.iloc[[240,241,332,333]]"
   ]
  },
  {
   "cell_type": "code",
   "execution_count": 64,
   "metadata": {
    "collapsed": true
   },
   "outputs": [],
   "source": [
    "transfer.loc[[263,264],['from_line']]='A C E'\n",
    "transfer.loc[[344,345],['from_line']]='B D F M'\n",
    "\n",
    "transfer.loc[[263,344],['to_line']]='A C E'\n",
    "transfer.loc[[264,345],['to_line']]='B D F M'"
   ]
  },
  {
   "cell_type": "code",
   "execution_count": 65,
   "metadata": {
    "collapsed": false
   },
   "outputs": [
    {
     "data": {
      "text/html": [
       "<div>\n",
       "<style>\n",
       "    .dataframe thead tr:only-child th {\n",
       "        text-align: right;\n",
       "    }\n",
       "\n",
       "    .dataframe thead th {\n",
       "        text-align: left;\n",
       "    }\n",
       "\n",
       "    .dataframe tbody tr th {\n",
       "        vertical-align: top;\n",
       "    }\n",
       "</style>\n",
       "<table border=\"1\" class=\"dataframe\">\n",
       "  <thead>\n",
       "    <tr style=\"text-align: right;\">\n",
       "      <th></th>\n",
       "      <th>from_stop_id</th>\n",
       "      <th>to_stop_id</th>\n",
       "      <th>transfer_type</th>\n",
       "      <th>min_transfer_time</th>\n",
       "      <th>from_stop</th>\n",
       "      <th>to_stop</th>\n",
       "      <th>from_line</th>\n",
       "      <th>to_line</th>\n",
       "    </tr>\n",
       "  </thead>\n",
       "  <tbody>\n",
       "    <tr>\n",
       "      <th>263</th>\n",
       "      <td>A32</td>\n",
       "      <td>A32</td>\n",
       "      <td>2</td>\n",
       "      <td>0</td>\n",
       "      <td>W 4 St</td>\n",
       "      <td>W 4 St</td>\n",
       "      <td>A C E</td>\n",
       "      <td>A C E</td>\n",
       "    </tr>\n",
       "    <tr>\n",
       "      <th>264</th>\n",
       "      <td>A32</td>\n",
       "      <td>D20</td>\n",
       "      <td>2</td>\n",
       "      <td>180</td>\n",
       "      <td>W 4 St</td>\n",
       "      <td>W 4 St</td>\n",
       "      <td>A C E</td>\n",
       "      <td>B D F M</td>\n",
       "    </tr>\n",
       "    <tr>\n",
       "      <th>344</th>\n",
       "      <td>D20</td>\n",
       "      <td>A32</td>\n",
       "      <td>2</td>\n",
       "      <td>180</td>\n",
       "      <td>W 4 St</td>\n",
       "      <td>W 4 St</td>\n",
       "      <td>B D F M</td>\n",
       "      <td>A C E</td>\n",
       "    </tr>\n",
       "    <tr>\n",
       "      <th>345</th>\n",
       "      <td>D20</td>\n",
       "      <td>D20</td>\n",
       "      <td>2</td>\n",
       "      <td>0</td>\n",
       "      <td>W 4 St</td>\n",
       "      <td>W 4 St</td>\n",
       "      <td>B D F M</td>\n",
       "      <td>B D F M</td>\n",
       "    </tr>\n",
       "  </tbody>\n",
       "</table>\n",
       "</div>"
      ],
      "text/plain": [
       "    from_stop_id to_stop_id  transfer_type  min_transfer_time from_stop  \\\n",
       "263          A32        A32              2                  0    W 4 St   \n",
       "264          A32        D20              2                180    W 4 St   \n",
       "344          D20        A32              2                180    W 4 St   \n",
       "345          D20        D20              2                  0    W 4 St   \n",
       "\n",
       "    to_stop from_line  to_line  \n",
       "263  W 4 St     A C E    A C E  \n",
       "264  W 4 St     A C E  B D F M  \n",
       "344  W 4 St   B D F M    A C E  \n",
       "345  W 4 St   B D F M  B D F M  "
      ]
     },
     "execution_count": 65,
     "metadata": {},
     "output_type": "execute_result"
    }
   ],
   "source": [
    "transfer.iloc[[263,264,344,345]]"
   ]
  },
  {
   "cell_type": "code",
   "execution_count": 77,
   "metadata": {
    "collapsed": false
   },
   "outputs": [],
   "source": [
    "append=stations[stations['GTFS Stop ID'].isin(['A12','A32','718'])].copy()"
   ]
  },
  {
   "cell_type": "code",
   "execution_count": 88,
   "metadata": {
    "collapsed": false
   },
   "outputs": [
    {
     "data": {
      "text/html": [
       "<div>\n",
       "<style>\n",
       "    .dataframe thead tr:only-child th {\n",
       "        text-align: right;\n",
       "    }\n",
       "\n",
       "    .dataframe thead th {\n",
       "        text-align: left;\n",
       "    }\n",
       "\n",
       "    .dataframe tbody tr th {\n",
       "        vertical-align: top;\n",
       "    }\n",
       "</style>\n",
       "<table border=\"1\" class=\"dataframe\">\n",
       "  <thead>\n",
       "    <tr style=\"text-align: right;\">\n",
       "      <th></th>\n",
       "      <th>Station ID</th>\n",
       "      <th>Complex ID</th>\n",
       "      <th>GTFS Stop ID</th>\n",
       "      <th>Division</th>\n",
       "      <th>Line</th>\n",
       "      <th>Stop Name</th>\n",
       "      <th>Borough</th>\n",
       "      <th>Daytime Routes</th>\n",
       "      <th>Structure</th>\n",
       "      <th>GTFS Latitude</th>\n",
       "      <th>GTFS Longitude</th>\n",
       "    </tr>\n",
       "  </thead>\n",
       "  <tbody>\n",
       "    <tr>\n",
       "      <th>149</th>\n",
       "      <td>151</td>\n",
       "      <td>151</td>\n",
       "      <td>A12</td>\n",
       "      <td>IND</td>\n",
       "      <td>8th Av - Fulton St</td>\n",
       "      <td>145 St</td>\n",
       "      <td>M</td>\n",
       "      <td>A B C D</td>\n",
       "      <td>Subway</td>\n",
       "      <td>40.824783</td>\n",
       "      <td>-73.944216</td>\n",
       "    </tr>\n",
       "    <tr>\n",
       "      <th>165</th>\n",
       "      <td>167</td>\n",
       "      <td>167</td>\n",
       "      <td>A32</td>\n",
       "      <td>IND</td>\n",
       "      <td>8th Av - Fulton St</td>\n",
       "      <td>W 4 St</td>\n",
       "      <td>M</td>\n",
       "      <td>A B C D E F M</td>\n",
       "      <td>Subway</td>\n",
       "      <td>40.732338</td>\n",
       "      <td>-74.000495</td>\n",
       "    </tr>\n",
       "    <tr>\n",
       "      <th>459</th>\n",
       "      <td>461</td>\n",
       "      <td>461</td>\n",
       "      <td>718</td>\n",
       "      <td>IRT</td>\n",
       "      <td>Flushing</td>\n",
       "      <td>Queensboro Plaza</td>\n",
       "      <td>Q</td>\n",
       "      <td>7 N W</td>\n",
       "      <td>Elevated</td>\n",
       "      <td>40.750582</td>\n",
       "      <td>-73.940202</td>\n",
       "    </tr>\n",
       "  </tbody>\n",
       "</table>\n",
       "</div>"
      ],
      "text/plain": [
       "     Station ID  Complex ID GTFS Stop ID Division                Line  \\\n",
       "149         151         151          A12      IND  8th Av - Fulton St   \n",
       "165         167         167          A32      IND  8th Av - Fulton St   \n",
       "459         461         461          718      IRT            Flushing   \n",
       "\n",
       "            Stop Name Borough Daytime Routes Structure  GTFS Latitude  \\\n",
       "149            145 St       M        A B C D    Subway      40.824783   \n",
       "165            W 4 St       M  A B C D E F M    Subway      40.732338   \n",
       "459  Queensboro Plaza       Q          7 N W  Elevated      40.750582   \n",
       "\n",
       "     GTFS Longitude  \n",
       "149      -73.944216  \n",
       "165      -74.000495  \n",
       "459      -73.940202  "
      ]
     },
     "execution_count": 88,
     "metadata": {},
     "output_type": "execute_result"
    }
   ],
   "source": [
    "stations[stations['GTFS Stop ID'].isin(['A12','A32','718'])]#['Daytime Routes']=['A C','A C E','7']"
   ]
  },
  {
   "cell_type": "code",
   "execution_count": 91,
   "metadata": {
    "collapsed": false
   },
   "outputs": [],
   "source": [
    "stations.loc[[149,165,459],'Daytime Routes']=['A C','A C E','7']"
   ]
  },
  {
   "cell_type": "code",
   "execution_count": 81,
   "metadata": {
    "collapsed": false
   },
   "outputs": [],
   "source": [
    "append['Station ID']=None\n",
    "append['Complex ID']=None\n",
    "append['Division']=None\n",
    "append['Line']=None"
   ]
  },
  {
   "cell_type": "code",
   "execution_count": 83,
   "metadata": {
    "collapsed": false
   },
   "outputs": [],
   "source": [
    "append['GTFS Stop ID']=['D13','D20','R09']"
   ]
  },
  {
   "cell_type": "code",
   "execution_count": 85,
   "metadata": {
    "collapsed": false
   },
   "outputs": [],
   "source": [
    "append['Daytime Routes']=['B D','B D F M','N W']"
   ]
  },
  {
   "cell_type": "code",
   "execution_count": 97,
   "metadata": {
    "collapsed": false
   },
   "outputs": [],
   "source": [
    "stations = pd.concat([stations,append])"
   ]
  },
  {
   "cell_type": "code",
   "execution_count": 98,
   "metadata": {
    "collapsed": true
   },
   "outputs": [],
   "source": [
    "stations.to_csv('../../data/nyc_subway_Stations_location_20170307.csv')"
   ]
  },
  {
   "cell_type": "code",
   "execution_count": null,
   "metadata": {
    "collapsed": true
   },
   "outputs": [],
   "source": []
  },
  {
   "cell_type": "code",
   "execution_count": 101,
   "metadata": {
    "collapsed": false
   },
   "outputs": [],
   "source": [
    "for i in range(len(transfer)):\n",
    "    from_id = transfer.iloc[i,0]\n",
    "    to_id = transfer.iloc[i,1]\n",
    "    try:\n",
    "        transfer.iloc[i,6] = stations[stations['GTFS Stop ID']==from_id]['Daytime Routes'].values[0]\n",
    "    except IndexError:\n",
    "        print i,'from_id: ',from_id\n",
    "        \n",
    "    try:\n",
    "        transfer.iloc[i,7] = stations[stations['GTFS Stop ID']==to_id]['Daytime Routes'].values[0]\n",
    "    except IndexError:\n",
    "        print i,'to_id: ',to_id"
   ]
  },
  {
   "cell_type": "code",
   "execution_count": 131,
   "metadata": {
    "collapsed": false
   },
   "outputs": [
    {
     "data": {
      "text/html": [
       "<div>\n",
       "<style>\n",
       "    .dataframe thead tr:only-child th {\n",
       "        text-align: right;\n",
       "    }\n",
       "\n",
       "    .dataframe thead th {\n",
       "        text-align: left;\n",
       "    }\n",
       "\n",
       "    .dataframe tbody tr th {\n",
       "        vertical-align: top;\n",
       "    }\n",
       "</style>\n",
       "<table border=\"1\" class=\"dataframe\">\n",
       "  <thead>\n",
       "    <tr style=\"text-align: right;\">\n",
       "      <th></th>\n",
       "      <th>from_stop_id</th>\n",
       "      <th>to_stop_id</th>\n",
       "      <th>transfer_type</th>\n",
       "      <th>min_transfer_time</th>\n",
       "      <th>from_stop</th>\n",
       "      <th>to_stop</th>\n",
       "      <th>from_line</th>\n",
       "      <th>to_line</th>\n",
       "    </tr>\n",
       "  </thead>\n",
       "  <tbody>\n",
       "    <tr>\n",
       "      <th>0</th>\n",
       "      <td>101</td>\n",
       "      <td>101</td>\n",
       "      <td>2</td>\n",
       "      <td>180</td>\n",
       "      <td>Van Cortlandt Park - 242 St</td>\n",
       "      <td>Van Cortlandt Park - 242 St</td>\n",
       "      <td>1</td>\n",
       "      <td>1</td>\n",
       "    </tr>\n",
       "    <tr>\n",
       "      <th>1</th>\n",
       "      <td>103</td>\n",
       "      <td>103</td>\n",
       "      <td>2</td>\n",
       "      <td>180</td>\n",
       "      <td>238 St</td>\n",
       "      <td>238 St</td>\n",
       "      <td>1</td>\n",
       "      <td>1</td>\n",
       "    </tr>\n",
       "    <tr>\n",
       "      <th>2</th>\n",
       "      <td>104</td>\n",
       "      <td>104</td>\n",
       "      <td>2</td>\n",
       "      <td>180</td>\n",
       "      <td>231 St</td>\n",
       "      <td>231 St</td>\n",
       "      <td>1</td>\n",
       "      <td>1</td>\n",
       "    </tr>\n",
       "    <tr>\n",
       "      <th>3</th>\n",
       "      <td>106</td>\n",
       "      <td>106</td>\n",
       "      <td>2</td>\n",
       "      <td>180</td>\n",
       "      <td>Marble Hill - 225 St</td>\n",
       "      <td>Marble Hill - 225 St</td>\n",
       "      <td>1</td>\n",
       "      <td>1</td>\n",
       "    </tr>\n",
       "    <tr>\n",
       "      <th>4</th>\n",
       "      <td>107</td>\n",
       "      <td>107</td>\n",
       "      <td>2</td>\n",
       "      <td>180</td>\n",
       "      <td>215 St</td>\n",
       "      <td>215 St</td>\n",
       "      <td>1</td>\n",
       "      <td>1</td>\n",
       "    </tr>\n",
       "  </tbody>\n",
       "</table>\n",
       "</div>"
      ],
      "text/plain": [
       "  from_stop_id to_stop_id  transfer_type  min_transfer_time  \\\n",
       "0          101        101              2                180   \n",
       "1          103        103              2                180   \n",
       "2          104        104              2                180   \n",
       "3          106        106              2                180   \n",
       "4          107        107              2                180   \n",
       "\n",
       "                     from_stop                      to_stop from_line to_line  \n",
       "0  Van Cortlandt Park - 242 St  Van Cortlandt Park - 242 St         1       1  \n",
       "1                       238 St                       238 St         1       1  \n",
       "2                       231 St                       231 St         1       1  \n",
       "3         Marble Hill - 225 St         Marble Hill - 225 St         1       1  \n",
       "4                       215 St                       215 St         1       1  "
      ]
     },
     "execution_count": 131,
     "metadata": {},
     "output_type": "execute_result"
    }
   ],
   "source": [
    "transfer[transfer['from_stop_id']==transfer['to_stop_id']].head()"
   ]
  },
  {
   "cell_type": "code",
   "execution_count": 112,
   "metadata": {
    "collapsed": false
   },
   "outputs": [
    {
     "data": {
      "text/html": [
       "<div>\n",
       "<style>\n",
       "    .dataframe thead tr:only-child th {\n",
       "        text-align: right;\n",
       "    }\n",
       "\n",
       "    .dataframe thead th {\n",
       "        text-align: left;\n",
       "    }\n",
       "\n",
       "    .dataframe tbody tr th {\n",
       "        vertical-align: top;\n",
       "    }\n",
       "</style>\n",
       "<table border=\"1\" class=\"dataframe\">\n",
       "  <thead>\n",
       "    <tr style=\"text-align: right;\">\n",
       "      <th></th>\n",
       "      <th>from_stop_id</th>\n",
       "      <th>to_stop_id</th>\n",
       "      <th>transfer_type</th>\n",
       "      <th>min_transfer_time</th>\n",
       "      <th>from_stop</th>\n",
       "      <th>to_stop</th>\n",
       "      <th>from_line</th>\n",
       "      <th>to_line</th>\n",
       "    </tr>\n",
       "  </thead>\n",
       "  <tbody>\n",
       "    <tr>\n",
       "      <th>388</th>\n",
       "      <td>F16</td>\n",
       "      <td>F16</td>\n",
       "      <td>2</td>\n",
       "      <td>180</td>\n",
       "      <td>East Broadway</td>\n",
       "      <td>East Broadway</td>\n",
       "      <td>F</td>\n",
       "      <td>F</td>\n",
       "    </tr>\n",
       "  </tbody>\n",
       "</table>\n",
       "</div>"
      ],
      "text/plain": [
       "    from_stop_id to_stop_id  transfer_type  min_transfer_time      from_stop  \\\n",
       "388          F16        F16              2                180  East Broadway   \n",
       "\n",
       "           to_stop from_line to_line  \n",
       "388  East Broadway         F       F  "
      ]
     },
     "execution_count": 112,
     "metadata": {},
     "output_type": "execute_result"
    }
   ],
   "source": [
    "transfer[transfer['from_stop']=='East Broadway']"
   ]
  },
  {
   "cell_type": "markdown",
   "metadata": {
    "collapsed": false
   },
   "source": [
    "### It is so wierd!! Why the same track transfer still cost time?"
   ]
  },
  {
   "cell_type": "code",
   "execution_count": 225,
   "metadata": {
    "collapsed": true
   },
   "outputs": [],
   "source": [
    "def combine(f,t):\n",
    "    for i in f:\n",
    "        for j in t:\n",
    "            yield (i,j)"
   ]
  },
  {
   "cell_type": "code",
   "execution_count": 246,
   "metadata": {
    "collapsed": false
   },
   "outputs": [],
   "source": [
    "trans=pd.DataFrame(columns=transfer.columns)\n",
    "for r in transfer.index:\n",
    "    f = transfer.iloc[r,-2].split(' ')\n",
    "    t = transfer.iloc[r,-1].split(' ')\n",
    "    for i,j in combine(f,t):\n",
    "    \n",
    "        df= transfer.iloc[r:r+1].copy()\n",
    "        df.from_line=i\n",
    "        df.to_line=j\n",
    "        trans = pd.concat([trans,df])"
   ]
  },
  {
   "cell_type": "code",
   "execution_count": 252,
   "metadata": {
    "collapsed": false
   },
   "outputs": [],
   "source": [
    "trans = trans[trans['from_line']!=trans['to_line']]"
   ]
  },
  {
   "cell_type": "code",
   "execution_count": 257,
   "metadata": {
    "collapsed": false
   },
   "outputs": [],
   "source": [
    "trans.reset_index(drop=True).to_csv('../cleaned_data/transfer_without_swipe')"
   ]
  },
  {
   "cell_type": "markdown",
   "metadata": {},
   "source": [
    "## dataframe stops and stations are different in following 3 stations"
   ]
  },
  {
   "cell_type": "markdown",
   "metadata": {},
   "source": [
    "Conclusion:\n",
    "1) Staten Island cancel \"Arthur Kill\", but use 'Nassau' and 'Atlantic' to replace\n",
    "2) stops are more updated\n",
    "3) N12 is the last station in coney island. B F N Q all ends there. \n",
    "   In stations, it is only known as \"D43\"\n",
    "   In stops, it is known as \"D43\" and \"N14\", but they are of same geo-coding."
   ]
  },
  {
   "cell_type": "code",
   "execution_count": 166,
   "metadata": {
    "collapsed": false
   },
   "outputs": [
    {
     "name": "stdout",
     "output_type": "stream",
     "text": [
      "N12\n",
      "S10\n",
      "S12\n"
     ]
    }
   ],
   "source": [
    "for i in stops.stop_id[::3].values:\n",
    "    if i in stations['GTFS Stop ID'].values:\n",
    "        pass\n",
    "    else:\n",
    "        print i"
   ]
  },
  {
   "cell_type": "code",
   "execution_count": 188,
   "metadata": {
    "collapsed": false
   },
   "outputs": [
    {
     "data": {
      "text/html": [
       "<div>\n",
       "<style>\n",
       "    .dataframe thead tr:only-child th {\n",
       "        text-align: right;\n",
       "    }\n",
       "\n",
       "    .dataframe thead th {\n",
       "        text-align: left;\n",
       "    }\n",
       "\n",
       "    .dataframe tbody tr th {\n",
       "        vertical-align: top;\n",
       "    }\n",
       "</style>\n",
       "<table border=\"1\" class=\"dataframe\">\n",
       "  <thead>\n",
       "    <tr style=\"text-align: right;\">\n",
       "      <th></th>\n",
       "      <th>index</th>\n",
       "      <th>stop_id</th>\n",
       "      <th>stop_code</th>\n",
       "      <th>stop_name</th>\n",
       "      <th>stop_desc</th>\n",
       "      <th>stop_lat</th>\n",
       "      <th>stop_lon</th>\n",
       "      <th>zone_id</th>\n",
       "      <th>stop_url</th>\n",
       "      <th>location_type</th>\n",
       "      <th>parent_station</th>\n",
       "    </tr>\n",
       "  </thead>\n",
       "  <tbody>\n",
       "    <tr>\n",
       "      <th>855</th>\n",
       "      <td>855</td>\n",
       "      <td>D43</td>\n",
       "      <td>NaN</td>\n",
       "      <td>Coney Island - Stillwell Av</td>\n",
       "      <td>NaN</td>\n",
       "      <td>40.577422</td>\n",
       "      <td>-73.981233</td>\n",
       "      <td>NaN</td>\n",
       "      <td>NaN</td>\n",
       "      <td>1</td>\n",
       "      <td>NaN</td>\n",
       "    </tr>\n",
       "    <tr>\n",
       "      <th>1287</th>\n",
       "      <td>1287</td>\n",
       "      <td>N12</td>\n",
       "      <td>NaN</td>\n",
       "      <td>S.B. Coney Island</td>\n",
       "      <td>NaN</td>\n",
       "      <td>40.577422</td>\n",
       "      <td>-73.981233</td>\n",
       "      <td>NaN</td>\n",
       "      <td>NaN</td>\n",
       "      <td>1</td>\n",
       "      <td>NaN</td>\n",
       "    </tr>\n",
       "    <tr>\n",
       "      <th>1431</th>\n",
       "      <td>1431</td>\n",
       "      <td>S10</td>\n",
       "      <td>NaN</td>\n",
       "      <td>Atlantic</td>\n",
       "      <td>NaN</td>\n",
       "      <td>40.515401</td>\n",
       "      <td>-74.245689</td>\n",
       "      <td>NaN</td>\n",
       "      <td>NaN</td>\n",
       "      <td>1</td>\n",
       "      <td>NaN</td>\n",
       "    </tr>\n",
       "    <tr>\n",
       "      <th>1437</th>\n",
       "      <td>1437</td>\n",
       "      <td>S12</td>\n",
       "      <td>NaN</td>\n",
       "      <td>Nassau</td>\n",
       "      <td>NaN</td>\n",
       "      <td>40.517812</td>\n",
       "      <td>-74.238373</td>\n",
       "      <td>NaN</td>\n",
       "      <td>NaN</td>\n",
       "      <td>1</td>\n",
       "      <td>NaN</td>\n",
       "    </tr>\n",
       "  </tbody>\n",
       "</table>\n",
       "</div>"
      ],
      "text/plain": [
       "      index stop_id  stop_code                    stop_name  stop_desc  \\\n",
       "855     855     D43        NaN  Coney Island - Stillwell Av        NaN   \n",
       "1287   1287     N12        NaN            S.B. Coney Island        NaN   \n",
       "1431   1431     S10        NaN                     Atlantic        NaN   \n",
       "1437   1437     S12        NaN                       Nassau        NaN   \n",
       "\n",
       "       stop_lat   stop_lon  zone_id  stop_url  location_type parent_station  \n",
       "855   40.577422 -73.981233      NaN       NaN              1            NaN  \n",
       "1287  40.577422 -73.981233      NaN       NaN              1            NaN  \n",
       "1431  40.515401 -74.245689      NaN       NaN              1            NaN  \n",
       "1437  40.517812 -74.238373      NaN       NaN              1            NaN  "
      ]
     },
     "execution_count": 188,
     "metadata": {},
     "output_type": "execute_result"
    }
   ],
   "source": [
    "stops[stops.stop_id.isin(['N12','S10','S12','D43'])]"
   ]
  },
  {
   "cell_type": "code",
   "execution_count": 176,
   "metadata": {
    "collapsed": false
   },
   "outputs": [
    {
     "data": {
      "text/html": [
       "<div>\n",
       "<style>\n",
       "    .dataframe thead tr:only-child th {\n",
       "        text-align: right;\n",
       "    }\n",
       "\n",
       "    .dataframe thead th {\n",
       "        text-align: left;\n",
       "    }\n",
       "\n",
       "    .dataframe tbody tr th {\n",
       "        vertical-align: top;\n",
       "    }\n",
       "</style>\n",
       "<table border=\"1\" class=\"dataframe\">\n",
       "  <thead>\n",
       "    <tr style=\"text-align: right;\">\n",
       "      <th></th>\n",
       "      <th>index</th>\n",
       "      <th>stop_id</th>\n",
       "      <th>stop_code</th>\n",
       "      <th>stop_name</th>\n",
       "      <th>stop_desc</th>\n",
       "      <th>stop_lat</th>\n",
       "      <th>stop_lon</th>\n",
       "      <th>zone_id</th>\n",
       "      <th>stop_url</th>\n",
       "      <th>location_type</th>\n",
       "      <th>parent_station</th>\n",
       "    </tr>\n",
       "  </thead>\n",
       "  <tbody>\n",
       "    <tr>\n",
       "      <th>855</th>\n",
       "      <td>855</td>\n",
       "      <td>D43</td>\n",
       "      <td>NaN</td>\n",
       "      <td>Coney Island - Stillwell Av</td>\n",
       "      <td>NaN</td>\n",
       "      <td>40.577422</td>\n",
       "      <td>-73.981233</td>\n",
       "      <td>NaN</td>\n",
       "      <td>NaN</td>\n",
       "      <td>1</td>\n",
       "      <td>NaN</td>\n",
       "    </tr>\n",
       "  </tbody>\n",
       "</table>\n",
       "</div>"
      ],
      "text/plain": [
       "     index stop_id  stop_code                    stop_name  stop_desc  \\\n",
       "855    855     D43        NaN  Coney Island - Stillwell Av        NaN   \n",
       "\n",
       "      stop_lat   stop_lon  zone_id  stop_url  location_type parent_station  \n",
       "855  40.577422 -73.981233      NaN       NaN              1            NaN  "
      ]
     },
     "execution_count": 176,
     "metadata": {},
     "output_type": "execute_result"
    }
   ],
   "source": [
    "stops[stops.stop_id.isin(['D43'])]"
   ]
  },
  {
   "cell_type": "code",
   "execution_count": 174,
   "metadata": {
    "collapsed": false
   },
   "outputs": [
    {
     "data": {
      "text/html": [
       "<div>\n",
       "<style>\n",
       "    .dataframe thead tr:only-child th {\n",
       "        text-align: right;\n",
       "    }\n",
       "\n",
       "    .dataframe thead th {\n",
       "        text-align: left;\n",
       "    }\n",
       "\n",
       "    .dataframe tbody tr th {\n",
       "        vertical-align: top;\n",
       "    }\n",
       "</style>\n",
       "<table border=\"1\" class=\"dataframe\">\n",
       "  <thead>\n",
       "    <tr style=\"text-align: right;\">\n",
       "      <th></th>\n",
       "      <th>Station ID</th>\n",
       "      <th>Complex ID</th>\n",
       "      <th>GTFS Stop ID</th>\n",
       "      <th>Division</th>\n",
       "      <th>Line</th>\n",
       "      <th>Stop Name</th>\n",
       "      <th>Borough</th>\n",
       "      <th>Daytime Routes</th>\n",
       "      <th>Structure</th>\n",
       "      <th>GTFS Latitude</th>\n",
       "      <th>GTFS Longitude</th>\n",
       "    </tr>\n",
       "  </thead>\n",
       "  <tbody>\n",
       "    <tr>\n",
       "      <th>57</th>\n",
       "      <td>58</td>\n",
       "      <td>58</td>\n",
       "      <td>D43</td>\n",
       "      <td>BMT</td>\n",
       "      <td>Sea Beach / West End / Culver / Brighton</td>\n",
       "      <td>Coney Island - Stillwell Av</td>\n",
       "      <td>Bk</td>\n",
       "      <td>D F N Q</td>\n",
       "      <td>Viaduct</td>\n",
       "      <td>40.577422</td>\n",
       "      <td>-73.981233</td>\n",
       "    </tr>\n",
       "  </tbody>\n",
       "</table>\n",
       "</div>"
      ],
      "text/plain": [
       "   Station ID Complex ID GTFS Stop ID Division  \\\n",
       "57         58         58          D43      BMT   \n",
       "\n",
       "                                        Line                    Stop Name  \\\n",
       "57  Sea Beach / West End / Culver / Brighton  Coney Island - Stillwell Av   \n",
       "\n",
       "   Borough Daytime Routes Structure  GTFS Latitude  GTFS Longitude  \n",
       "57      Bk        D F N Q   Viaduct      40.577422      -73.981233  "
      ]
     },
     "execution_count": 174,
     "metadata": {},
     "output_type": "execute_result"
    }
   ],
   "source": [
    "stations[stations['GTFS Latitude']==40.577422]"
   ]
  },
  {
   "cell_type": "code",
   "execution_count": 183,
   "metadata": {
    "collapsed": false,
    "scrolled": true
   },
   "outputs": [
    {
     "data": {
      "text/html": [
       "<div>\n",
       "<style>\n",
       "    .dataframe thead tr:only-child th {\n",
       "        text-align: right;\n",
       "    }\n",
       "\n",
       "    .dataframe thead th {\n",
       "        text-align: left;\n",
       "    }\n",
       "\n",
       "    .dataframe tbody tr th {\n",
       "        vertical-align: top;\n",
       "    }\n",
       "</style>\n",
       "<table border=\"1\" class=\"dataframe\">\n",
       "  <thead>\n",
       "    <tr style=\"text-align: right;\">\n",
       "      <th></th>\n",
       "      <th>Station ID</th>\n",
       "      <th>Complex ID</th>\n",
       "      <th>GTFS Stop ID</th>\n",
       "      <th>Division</th>\n",
       "      <th>Line</th>\n",
       "      <th>Stop Name</th>\n",
       "      <th>Borough</th>\n",
       "      <th>Daytime Routes</th>\n",
       "      <th>Structure</th>\n",
       "      <th>GTFS Latitude</th>\n",
       "      <th>GTFS Longitude</th>\n",
       "    </tr>\n",
       "  </thead>\n",
       "  <tbody>\n",
       "    <tr>\n",
       "      <th>472</th>\n",
       "      <td>501</td>\n",
       "      <td>501</td>\n",
       "      <td>S31</td>\n",
       "      <td>SIR</td>\n",
       "      <td>Staten Island</td>\n",
       "      <td>St George</td>\n",
       "      <td>SI</td>\n",
       "      <td>SIR</td>\n",
       "      <td>Open Cut</td>\n",
       "      <td>40.643748</td>\n",
       "      <td>-74.073643</td>\n",
       "    </tr>\n",
       "    <tr>\n",
       "      <th>473</th>\n",
       "      <td>502</td>\n",
       "      <td>502</td>\n",
       "      <td>S30</td>\n",
       "      <td>SIR</td>\n",
       "      <td>Staten Island</td>\n",
       "      <td>Tompkinsville</td>\n",
       "      <td>SI</td>\n",
       "      <td>SIR</td>\n",
       "      <td>At Grade</td>\n",
       "      <td>40.636949</td>\n",
       "      <td>-74.074835</td>\n",
       "    </tr>\n",
       "    <tr>\n",
       "      <th>474</th>\n",
       "      <td>503</td>\n",
       "      <td>503</td>\n",
       "      <td>S29</td>\n",
       "      <td>SIR</td>\n",
       "      <td>Staten Island</td>\n",
       "      <td>Stapleton</td>\n",
       "      <td>SI</td>\n",
       "      <td>SIR</td>\n",
       "      <td>Elevated</td>\n",
       "      <td>40.627915</td>\n",
       "      <td>-74.075162</td>\n",
       "    </tr>\n",
       "    <tr>\n",
       "      <th>475</th>\n",
       "      <td>504</td>\n",
       "      <td>504</td>\n",
       "      <td>S28</td>\n",
       "      <td>SIR</td>\n",
       "      <td>Staten Island</td>\n",
       "      <td>Clifton</td>\n",
       "      <td>SI</td>\n",
       "      <td>SIR</td>\n",
       "      <td>Elevated</td>\n",
       "      <td>40.621319</td>\n",
       "      <td>-74.071402</td>\n",
       "    </tr>\n",
       "    <tr>\n",
       "      <th>476</th>\n",
       "      <td>505</td>\n",
       "      <td>505</td>\n",
       "      <td>S27</td>\n",
       "      <td>SIR</td>\n",
       "      <td>Staten Island</td>\n",
       "      <td>Grasmere</td>\n",
       "      <td>SI</td>\n",
       "      <td>SIR</td>\n",
       "      <td>Open Cut</td>\n",
       "      <td>40.603117</td>\n",
       "      <td>-74.084087</td>\n",
       "    </tr>\n",
       "    <tr>\n",
       "      <th>477</th>\n",
       "      <td>506</td>\n",
       "      <td>506</td>\n",
       "      <td>S26</td>\n",
       "      <td>SIR</td>\n",
       "      <td>Staten Island</td>\n",
       "      <td>Old Town</td>\n",
       "      <td>SI</td>\n",
       "      <td>SIR</td>\n",
       "      <td>Embankment</td>\n",
       "      <td>40.596612</td>\n",
       "      <td>-74.087368</td>\n",
       "    </tr>\n",
       "    <tr>\n",
       "      <th>478</th>\n",
       "      <td>507</td>\n",
       "      <td>507</td>\n",
       "      <td>S25</td>\n",
       "      <td>SIR</td>\n",
       "      <td>Staten Island</td>\n",
       "      <td>Dongan Hills</td>\n",
       "      <td>SI</td>\n",
       "      <td>SIR</td>\n",
       "      <td>Embankment</td>\n",
       "      <td>40.588849</td>\n",
       "      <td>-74.096090</td>\n",
       "    </tr>\n",
       "    <tr>\n",
       "      <th>479</th>\n",
       "      <td>508</td>\n",
       "      <td>508</td>\n",
       "      <td>S24</td>\n",
       "      <td>SIR</td>\n",
       "      <td>Staten Island</td>\n",
       "      <td>Jefferson Av</td>\n",
       "      <td>SI</td>\n",
       "      <td>SIR</td>\n",
       "      <td>Embankment</td>\n",
       "      <td>40.583591</td>\n",
       "      <td>-74.103338</td>\n",
       "    </tr>\n",
       "    <tr>\n",
       "      <th>480</th>\n",
       "      <td>509</td>\n",
       "      <td>509</td>\n",
       "      <td>S23</td>\n",
       "      <td>SIR</td>\n",
       "      <td>Staten Island</td>\n",
       "      <td>Grant City</td>\n",
       "      <td>SI</td>\n",
       "      <td>SIR</td>\n",
       "      <td>Open Cut</td>\n",
       "      <td>40.578965</td>\n",
       "      <td>-74.109704</td>\n",
       "    </tr>\n",
       "    <tr>\n",
       "      <th>481</th>\n",
       "      <td>510</td>\n",
       "      <td>510</td>\n",
       "      <td>S22</td>\n",
       "      <td>SIR</td>\n",
       "      <td>Staten Island</td>\n",
       "      <td>New Dorp</td>\n",
       "      <td>SI</td>\n",
       "      <td>SIR</td>\n",
       "      <td>Open Cut</td>\n",
       "      <td>40.573480</td>\n",
       "      <td>-74.117210</td>\n",
       "    </tr>\n",
       "    <tr>\n",
       "      <th>482</th>\n",
       "      <td>511</td>\n",
       "      <td>511</td>\n",
       "      <td>S21</td>\n",
       "      <td>SIR</td>\n",
       "      <td>Staten Island</td>\n",
       "      <td>Oakwood Heights</td>\n",
       "      <td>SI</td>\n",
       "      <td>SIR</td>\n",
       "      <td>Open Cut</td>\n",
       "      <td>40.565110</td>\n",
       "      <td>-74.126320</td>\n",
       "    </tr>\n",
       "    <tr>\n",
       "      <th>483</th>\n",
       "      <td>512</td>\n",
       "      <td>512</td>\n",
       "      <td>S20</td>\n",
       "      <td>SIR</td>\n",
       "      <td>Staten Island</td>\n",
       "      <td>Bay Terrace</td>\n",
       "      <td>SI</td>\n",
       "      <td>SIR</td>\n",
       "      <td>Embankment</td>\n",
       "      <td>40.556400</td>\n",
       "      <td>-74.136907</td>\n",
       "    </tr>\n",
       "    <tr>\n",
       "      <th>484</th>\n",
       "      <td>513</td>\n",
       "      <td>513</td>\n",
       "      <td>S19</td>\n",
       "      <td>SIR</td>\n",
       "      <td>Staten Island</td>\n",
       "      <td>Great Kills</td>\n",
       "      <td>SI</td>\n",
       "      <td>SIR</td>\n",
       "      <td>Open Cut</td>\n",
       "      <td>40.551231</td>\n",
       "      <td>-74.151399</td>\n",
       "    </tr>\n",
       "    <tr>\n",
       "      <th>485</th>\n",
       "      <td>514</td>\n",
       "      <td>514</td>\n",
       "      <td>S18</td>\n",
       "      <td>SIR</td>\n",
       "      <td>Staten Island</td>\n",
       "      <td>Eltingville</td>\n",
       "      <td>SI</td>\n",
       "      <td>SIR</td>\n",
       "      <td>Embankment</td>\n",
       "      <td>40.544601</td>\n",
       "      <td>-74.164570</td>\n",
       "    </tr>\n",
       "    <tr>\n",
       "      <th>486</th>\n",
       "      <td>515</td>\n",
       "      <td>515</td>\n",
       "      <td>S17</td>\n",
       "      <td>SIR</td>\n",
       "      <td>Staten Island</td>\n",
       "      <td>Annadale</td>\n",
       "      <td>SI</td>\n",
       "      <td>SIR</td>\n",
       "      <td>Open Cut</td>\n",
       "      <td>40.540460</td>\n",
       "      <td>-74.178217</td>\n",
       "    </tr>\n",
       "    <tr>\n",
       "      <th>487</th>\n",
       "      <td>516</td>\n",
       "      <td>516</td>\n",
       "      <td>S16</td>\n",
       "      <td>SIR</td>\n",
       "      <td>Staten Island</td>\n",
       "      <td>Huguenot</td>\n",
       "      <td>SI</td>\n",
       "      <td>SIR</td>\n",
       "      <td>Open Cut</td>\n",
       "      <td>40.533674</td>\n",
       "      <td>-74.191794</td>\n",
       "    </tr>\n",
       "    <tr>\n",
       "      <th>488</th>\n",
       "      <td>517</td>\n",
       "      <td>517</td>\n",
       "      <td>S15</td>\n",
       "      <td>SIR</td>\n",
       "      <td>Staten Island</td>\n",
       "      <td>Prince's Bay</td>\n",
       "      <td>SI</td>\n",
       "      <td>SIR</td>\n",
       "      <td>Open Cut</td>\n",
       "      <td>40.525507</td>\n",
       "      <td>-74.200064</td>\n",
       "    </tr>\n",
       "    <tr>\n",
       "      <th>489</th>\n",
       "      <td>518</td>\n",
       "      <td>518</td>\n",
       "      <td>S14</td>\n",
       "      <td>SIR</td>\n",
       "      <td>Staten Island</td>\n",
       "      <td>Pleasant Plains</td>\n",
       "      <td>SI</td>\n",
       "      <td>SIR</td>\n",
       "      <td>Embankment</td>\n",
       "      <td>40.522410</td>\n",
       "      <td>-74.217847</td>\n",
       "    </tr>\n",
       "    <tr>\n",
       "      <th>490</th>\n",
       "      <td>519</td>\n",
       "      <td>519</td>\n",
       "      <td>S13</td>\n",
       "      <td>SIR</td>\n",
       "      <td>Staten Island</td>\n",
       "      <td>Richmond Valley</td>\n",
       "      <td>SI</td>\n",
       "      <td>SIR</td>\n",
       "      <td>Open Cut</td>\n",
       "      <td>40.519631</td>\n",
       "      <td>-74.229141</td>\n",
       "    </tr>\n",
       "    <tr>\n",
       "      <th>491</th>\n",
       "      <td>522</td>\n",
       "      <td>522</td>\n",
       "      <td>S09</td>\n",
       "      <td>SIR</td>\n",
       "      <td>Staten Island</td>\n",
       "      <td>Tottenville</td>\n",
       "      <td>SI</td>\n",
       "      <td>SIR</td>\n",
       "      <td>At Grade</td>\n",
       "      <td>40.512764</td>\n",
       "      <td>-74.251961</td>\n",
       "    </tr>\n",
       "    <tr>\n",
       "      <th>492</th>\n",
       "      <td>523</td>\n",
       "      <td>523</td>\n",
       "      <td>S11</td>\n",
       "      <td>SIR</td>\n",
       "      <td>Staten Island</td>\n",
       "      <td>Arthur Kill</td>\n",
       "      <td>SI</td>\n",
       "      <td>SIR</td>\n",
       "      <td>At Grade</td>\n",
       "      <td>40.516578</td>\n",
       "      <td>-74.242096</td>\n",
       "    </tr>\n",
       "  </tbody>\n",
       "</table>\n",
       "</div>"
      ],
      "text/plain": [
       "    Station ID Complex ID GTFS Stop ID Division           Line  \\\n",
       "472        501        501          S31      SIR  Staten Island   \n",
       "473        502        502          S30      SIR  Staten Island   \n",
       "474        503        503          S29      SIR  Staten Island   \n",
       "475        504        504          S28      SIR  Staten Island   \n",
       "476        505        505          S27      SIR  Staten Island   \n",
       "477        506        506          S26      SIR  Staten Island   \n",
       "478        507        507          S25      SIR  Staten Island   \n",
       "479        508        508          S24      SIR  Staten Island   \n",
       "480        509        509          S23      SIR  Staten Island   \n",
       "481        510        510          S22      SIR  Staten Island   \n",
       "482        511        511          S21      SIR  Staten Island   \n",
       "483        512        512          S20      SIR  Staten Island   \n",
       "484        513        513          S19      SIR  Staten Island   \n",
       "485        514        514          S18      SIR  Staten Island   \n",
       "486        515        515          S17      SIR  Staten Island   \n",
       "487        516        516          S16      SIR  Staten Island   \n",
       "488        517        517          S15      SIR  Staten Island   \n",
       "489        518        518          S14      SIR  Staten Island   \n",
       "490        519        519          S13      SIR  Staten Island   \n",
       "491        522        522          S09      SIR  Staten Island   \n",
       "492        523        523          S11      SIR  Staten Island   \n",
       "\n",
       "           Stop Name Borough Daytime Routes   Structure  GTFS Latitude  \\\n",
       "472        St George      SI            SIR    Open Cut      40.643748   \n",
       "473    Tompkinsville      SI            SIR    At Grade      40.636949   \n",
       "474        Stapleton      SI            SIR    Elevated      40.627915   \n",
       "475          Clifton      SI            SIR    Elevated      40.621319   \n",
       "476         Grasmere      SI            SIR    Open Cut      40.603117   \n",
       "477         Old Town      SI            SIR  Embankment      40.596612   \n",
       "478     Dongan Hills      SI            SIR  Embankment      40.588849   \n",
       "479     Jefferson Av      SI            SIR  Embankment      40.583591   \n",
       "480       Grant City      SI            SIR    Open Cut      40.578965   \n",
       "481         New Dorp      SI            SIR    Open Cut      40.573480   \n",
       "482  Oakwood Heights      SI            SIR    Open Cut      40.565110   \n",
       "483      Bay Terrace      SI            SIR  Embankment      40.556400   \n",
       "484      Great Kills      SI            SIR    Open Cut      40.551231   \n",
       "485      Eltingville      SI            SIR  Embankment      40.544601   \n",
       "486         Annadale      SI            SIR    Open Cut      40.540460   \n",
       "487         Huguenot      SI            SIR    Open Cut      40.533674   \n",
       "488     Prince's Bay      SI            SIR    Open Cut      40.525507   \n",
       "489  Pleasant Plains      SI            SIR  Embankment      40.522410   \n",
       "490  Richmond Valley      SI            SIR    Open Cut      40.519631   \n",
       "491      Tottenville      SI            SIR    At Grade      40.512764   \n",
       "492      Arthur Kill      SI            SIR    At Grade      40.516578   \n",
       "\n",
       "     GTFS Longitude  \n",
       "472      -74.073643  \n",
       "473      -74.074835  \n",
       "474      -74.075162  \n",
       "475      -74.071402  \n",
       "476      -74.084087  \n",
       "477      -74.087368  \n",
       "478      -74.096090  \n",
       "479      -74.103338  \n",
       "480      -74.109704  \n",
       "481      -74.117210  \n",
       "482      -74.126320  \n",
       "483      -74.136907  \n",
       "484      -74.151399  \n",
       "485      -74.164570  \n",
       "486      -74.178217  \n",
       "487      -74.191794  \n",
       "488      -74.200064  \n",
       "489      -74.217847  \n",
       "490      -74.229141  \n",
       "491      -74.251961  \n",
       "492      -74.242096  "
      ]
     },
     "execution_count": 183,
     "metadata": {},
     "output_type": "execute_result"
    }
   ],
   "source": [
    "stations[stations['Daytime Routes']=='SIR']"
   ]
  },
  {
   "cell_type": "markdown",
   "metadata": {},
   "source": [
    "## CLEAN UP NODES"
   ]
  },
  {
   "cell_type": "code",
   "execution_count": 276,
   "metadata": {
    "collapsed": false
   },
   "outputs": [],
   "source": [
    "stations= stations[['GTFS Stop ID','Borough','Daytime Routes']]"
   ]
  },
  {
   "cell_type": "code",
   "execution_count": 278,
   "metadata": {
    "collapsed": false
   },
   "outputs": [],
   "source": [
    "stations= stations.rename(columns={'GTFS Stop ID':'stop_id'})"
   ]
  },
  {
   "cell_type": "code",
   "execution_count": 280,
   "metadata": {
    "collapsed": false
   },
   "outputs": [
    {
     "data": {
      "text/html": [
       "<div>\n",
       "<style>\n",
       "    .dataframe thead tr:only-child th {\n",
       "        text-align: right;\n",
       "    }\n",
       "\n",
       "    .dataframe thead th {\n",
       "        text-align: left;\n",
       "    }\n",
       "\n",
       "    .dataframe tbody tr th {\n",
       "        vertical-align: top;\n",
       "    }\n",
       "</style>\n",
       "<table border=\"1\" class=\"dataframe\">\n",
       "  <thead>\n",
       "    <tr style=\"text-align: right;\">\n",
       "      <th></th>\n",
       "      <th>stop_id</th>\n",
       "      <th>Borough</th>\n",
       "      <th>Daytime Routes</th>\n",
       "    </tr>\n",
       "  </thead>\n",
       "  <tbody>\n",
       "    <tr>\n",
       "      <th>0</th>\n",
       "      <td>R01</td>\n",
       "      <td>Q</td>\n",
       "      <td>N W</td>\n",
       "    </tr>\n",
       "    <tr>\n",
       "      <th>1</th>\n",
       "      <td>R03</td>\n",
       "      <td>Q</td>\n",
       "      <td>N W</td>\n",
       "    </tr>\n",
       "  </tbody>\n",
       "</table>\n",
       "</div>"
      ],
      "text/plain": [
       "  stop_id Borough Daytime Routes\n",
       "0     R01       Q            N W\n",
       "1     R03       Q            N W"
      ]
     },
     "execution_count": 280,
     "metadata": {},
     "output_type": "execute_result"
    }
   ],
   "source": [
    "stations.head(2)"
   ]
  },
  {
   "cell_type": "code",
   "execution_count": 270,
   "metadata": {
    "collapsed": false
   },
   "outputs": [],
   "source": [
    "stops= stops[['stop_id','stop_name','stop_lat','stop_lon']][::3]"
   ]
  },
  {
   "cell_type": "code",
   "execution_count": 283,
   "metadata": {
    "collapsed": false
   },
   "outputs": [],
   "source": [
    "stops=stops.merge(stations,on='stop_id',how='left')"
   ]
  },
  {
   "cell_type": "code",
   "execution_count": 310,
   "metadata": {
    "collapsed": false
   },
   "outputs": [
    {
     "data": {
      "text/html": [
       "<div>\n",
       "<style>\n",
       "    .dataframe thead tr:only-child th {\n",
       "        text-align: right;\n",
       "    }\n",
       "\n",
       "    .dataframe thead th {\n",
       "        text-align: left;\n",
       "    }\n",
       "\n",
       "    .dataframe tbody tr th {\n",
       "        vertical-align: top;\n",
       "    }\n",
       "</style>\n",
       "<table border=\"1\" class=\"dataframe\">\n",
       "  <thead>\n",
       "    <tr style=\"text-align: right;\">\n",
       "      <th></th>\n",
       "      <th>stop_id</th>\n",
       "      <th>stop_name</th>\n",
       "      <th>stop_lat</th>\n",
       "      <th>stop_lon</th>\n",
       "      <th>Borough</th>\n",
       "      <th>Daytime Routes</th>\n",
       "    </tr>\n",
       "  </thead>\n",
       "  <tbody>\n",
       "  </tbody>\n",
       "</table>\n",
       "</div>"
      ],
      "text/plain": [
       "Empty DataFrame\n",
       "Columns: [stop_id, stop_name, stop_lat, stop_lon, Borough, Daytime Routes]\n",
       "Index: []"
      ]
     },
     "execution_count": 310,
     "metadata": {},
     "output_type": "execute_result"
    }
   ],
   "source": [
    "stops[(stops.Borough>'A')==False]"
   ]
  },
  {
   "cell_type": "code",
   "execution_count": 305,
   "metadata": {
    "collapsed": false
   },
   "outputs": [],
   "source": [
    "stops= stops[stops['stop_id']!='N12']"
   ]
  },
  {
   "cell_type": "code",
   "execution_count": 309,
   "metadata": {
    "collapsed": false
   },
   "outputs": [
    {
     "name": "stderr",
     "output_type": "stream",
     "text": [
      "//anaconda/lib/python2.7/site-packages/pandas/core/indexing.py:517: SettingWithCopyWarning: \n",
      "A value is trying to be set on a copy of a slice from a DataFrame.\n",
      "Try using .loc[row_indexer,col_indexer] = value instead\n",
      "\n",
      "See the caveats in the documentation: http://pandas.pydata.org/pandas-docs/stable/indexing.html#indexing-view-versus-copy\n",
      "  self.obj[item] = s\n"
     ]
    }
   ],
   "source": [
    "\n",
    "stops.loc[477,'Borough']='SI'\n",
    "stops.loc[479,'Borough']='SI'\n",
    "\n",
    "stops.loc[477,'Daytime Routes']='SIR'\n",
    "stops.loc[479,'Daytime Routes']='SIR'"
   ]
  },
  {
   "cell_type": "code",
   "execution_count": 311,
   "metadata": {
    "collapsed": true
   },
   "outputs": [],
   "source": [
    "stops.to_csv('../cleaned_data/nyc_subway_stations_with_lines')"
   ]
  },
  {
   "cell_type": "code",
   "execution_count": 321,
   "metadata": {
    "collapsed": false
   },
   "outputs": [],
   "source": [
    "stops=stops.reset_index(drop=True)"
   ]
  },
  {
   "cell_type": "code",
   "execution_count": 319,
   "metadata": {
    "collapsed": false,
    "scrolled": true
   },
   "outputs": [
    {
     "data": {
      "text/html": [
       "<div>\n",
       "<style>\n",
       "    .dataframe thead tr:only-child th {\n",
       "        text-align: right;\n",
       "    }\n",
       "\n",
       "    .dataframe thead th {\n",
       "        text-align: left;\n",
       "    }\n",
       "\n",
       "    .dataframe tbody tr th {\n",
       "        vertical-align: top;\n",
       "    }\n",
       "</style>\n",
       "<table border=\"1\" class=\"dataframe\">\n",
       "  <thead>\n",
       "    <tr style=\"text-align: right;\">\n",
       "      <th></th>\n",
       "      <th>stop_id</th>\n",
       "      <th>stop_name</th>\n",
       "      <th>stop_lat</th>\n",
       "      <th>stop_lon</th>\n",
       "      <th>Borough</th>\n",
       "      <th>Daytime Routes</th>\n",
       "    </tr>\n",
       "  </thead>\n",
       "  <tbody>\n",
       "    <tr>\n",
       "      <th>34</th>\n",
       "      <td>137</td>\n",
       "      <td>Chambers St</td>\n",
       "      <td>40.715478</td>\n",
       "      <td>-74.009266</td>\n",
       "      <td>M</td>\n",
       "      <td>1 2 3</td>\n",
       "    </tr>\n",
       "    <tr>\n",
       "      <th>35</th>\n",
       "      <td>138</td>\n",
       "      <td>Cortlandt St</td>\n",
       "      <td>40.711835</td>\n",
       "      <td>-74.012188</td>\n",
       "      <td>M</td>\n",
       "      <td>1</td>\n",
       "    </tr>\n",
       "    <tr>\n",
       "      <th>36</th>\n",
       "      <td>139</td>\n",
       "      <td>Rector St</td>\n",
       "      <td>40.707513</td>\n",
       "      <td>-74.013783</td>\n",
       "      <td>M</td>\n",
       "      <td>1</td>\n",
       "    </tr>\n",
       "    <tr>\n",
       "      <th>37</th>\n",
       "      <td>140</td>\n",
       "      <td>South Ferry Loop</td>\n",
       "      <td>40.701411</td>\n",
       "      <td>-74.013205</td>\n",
       "      <td>M</td>\n",
       "      <td>1</td>\n",
       "    </tr>\n",
       "    <tr>\n",
       "      <th>38</th>\n",
       "      <td>201</td>\n",
       "      <td>Wakefield - 241 St</td>\n",
       "      <td>40.903125</td>\n",
       "      <td>-73.850620</td>\n",
       "      <td>Bx</td>\n",
       "      <td>2</td>\n",
       "    </tr>\n",
       "    <tr>\n",
       "      <th>39</th>\n",
       "      <td>204</td>\n",
       "      <td>Nereid Av</td>\n",
       "      <td>40.898379</td>\n",
       "      <td>-73.854376</td>\n",
       "      <td>Bx</td>\n",
       "      <td>2 5</td>\n",
       "    </tr>\n",
       "  </tbody>\n",
       "</table>\n",
       "</div>"
      ],
      "text/plain": [
       "   stop_id           stop_name   stop_lat   stop_lon Borough Daytime Routes\n",
       "34     137         Chambers St  40.715478 -74.009266       M          1 2 3\n",
       "35     138        Cortlandt St  40.711835 -74.012188       M              1\n",
       "36     139           Rector St  40.707513 -74.013783       M              1\n",
       "37     140    South Ferry Loop  40.701411 -74.013205       M              1\n",
       "38     201  Wakefield - 241 St  40.903125 -73.850620      Bx              2\n",
       "39     204           Nereid Av  40.898379 -73.854376      Bx            2 5"
      ]
     },
     "execution_count": 319,
     "metadata": {},
     "output_type": "execute_result"
    }
   ],
   "source": [
    "stops.iloc[34:40]"
   ]
  },
  {
   "cell_type": "code",
   "execution_count": 327,
   "metadata": {
    "collapsed": true
   },
   "outputs": [],
   "source": [
    "st=pd.DataFrame(columns=stops.columns)\n",
    "for r in stops.index:\n",
    "    routes = stops.iloc[r,-1].split(' ')\n",
    "    for i in routes:\n",
    "    \n",
    "        df= stops.iloc[r:r+1].copy()\n",
    "        df['Daytime Routes']=i\n",
    "        st = pd.concat([st,df])"
   ]
  },
  {
   "cell_type": "code",
   "execution_count": 330,
   "metadata": {
    "collapsed": false
   },
   "outputs": [],
   "source": [
    "st.reset_index(drop=True).to_csv('../cleaned_data/nyc_subway_stations_with_lines_2(splited row)')"
   ]
  },
  {
   "cell_type": "code",
   "execution_count": 332,
   "metadata": {
    "collapsed": false
   },
   "outputs": [
    {
     "data": {
      "text/html": [
       "<div>\n",
       "<style>\n",
       "    .dataframe thead tr:only-child th {\n",
       "        text-align: right;\n",
       "    }\n",
       "\n",
       "    .dataframe thead th {\n",
       "        text-align: left;\n",
       "    }\n",
       "\n",
       "    .dataframe tbody tr th {\n",
       "        vertical-align: top;\n",
       "    }\n",
       "</style>\n",
       "<table border=\"1\" class=\"dataframe\">\n",
       "  <thead>\n",
       "    <tr style=\"text-align: right;\">\n",
       "      <th></th>\n",
       "      <th>stop_id</th>\n",
       "      <th>stop_name</th>\n",
       "      <th>stop_lat</th>\n",
       "      <th>stop_lon</th>\n",
       "      <th>Borough</th>\n",
       "      <th>Daytime Routes</th>\n",
       "    </tr>\n",
       "  </thead>\n",
       "  <tbody>\n",
       "    <tr>\n",
       "      <th>0</th>\n",
       "      <td>101</td>\n",
       "      <td>Van Cortlandt Park - 242 St</td>\n",
       "      <td>40.889248</td>\n",
       "      <td>-73.898583</td>\n",
       "      <td>Bx</td>\n",
       "      <td>1</td>\n",
       "    </tr>\n",
       "    <tr>\n",
       "      <th>1</th>\n",
       "      <td>103</td>\n",
       "      <td>238 St</td>\n",
       "      <td>40.884667</td>\n",
       "      <td>-73.900870</td>\n",
       "      <td>Bx</td>\n",
       "      <td>1</td>\n",
       "    </tr>\n",
       "    <tr>\n",
       "      <th>2</th>\n",
       "      <td>104</td>\n",
       "      <td>231 St</td>\n",
       "      <td>40.878856</td>\n",
       "      <td>-73.904834</td>\n",
       "      <td>Bx</td>\n",
       "      <td>1</td>\n",
       "    </tr>\n",
       "    <tr>\n",
       "      <th>3</th>\n",
       "      <td>106</td>\n",
       "      <td>Marble Hill - 225 St</td>\n",
       "      <td>40.874561</td>\n",
       "      <td>-73.909831</td>\n",
       "      <td>M</td>\n",
       "      <td>1</td>\n",
       "    </tr>\n",
       "    <tr>\n",
       "      <th>4</th>\n",
       "      <td>107</td>\n",
       "      <td>215 St</td>\n",
       "      <td>40.869444</td>\n",
       "      <td>-73.915279</td>\n",
       "      <td>M</td>\n",
       "      <td>1</td>\n",
       "    </tr>\n",
       "    <tr>\n",
       "      <th>5</th>\n",
       "      <td>108</td>\n",
       "      <td>207 St</td>\n",
       "      <td>40.864621</td>\n",
       "      <td>-73.918822</td>\n",
       "      <td>M</td>\n",
       "      <td>1</td>\n",
       "    </tr>\n",
       "    <tr>\n",
       "      <th>6</th>\n",
       "      <td>109</td>\n",
       "      <td>Dyckman St</td>\n",
       "      <td>40.860531</td>\n",
       "      <td>-73.925536</td>\n",
       "      <td>M</td>\n",
       "      <td>1</td>\n",
       "    </tr>\n",
       "    <tr>\n",
       "      <th>7</th>\n",
       "      <td>110</td>\n",
       "      <td>191 St</td>\n",
       "      <td>40.855225</td>\n",
       "      <td>-73.929412</td>\n",
       "      <td>M</td>\n",
       "      <td>1</td>\n",
       "    </tr>\n",
       "    <tr>\n",
       "      <th>8</th>\n",
       "      <td>111</td>\n",
       "      <td>181 St</td>\n",
       "      <td>40.849505</td>\n",
       "      <td>-73.933596</td>\n",
       "      <td>M</td>\n",
       "      <td>1</td>\n",
       "    </tr>\n",
       "    <tr>\n",
       "      <th>9</th>\n",
       "      <td>112</td>\n",
       "      <td>168 St - Washington Hts</td>\n",
       "      <td>40.840556</td>\n",
       "      <td>-73.940133</td>\n",
       "      <td>M</td>\n",
       "      <td>1</td>\n",
       "    </tr>\n",
       "  </tbody>\n",
       "</table>\n",
       "</div>"
      ],
      "text/plain": [
       "  stop_id                    stop_name   stop_lat   stop_lon Borough  \\\n",
       "0     101  Van Cortlandt Park - 242 St  40.889248 -73.898583      Bx   \n",
       "1     103                       238 St  40.884667 -73.900870      Bx   \n",
       "2     104                       231 St  40.878856 -73.904834      Bx   \n",
       "3     106         Marble Hill - 225 St  40.874561 -73.909831       M   \n",
       "4     107                       215 St  40.869444 -73.915279       M   \n",
       "5     108                       207 St  40.864621 -73.918822       M   \n",
       "6     109                   Dyckman St  40.860531 -73.925536       M   \n",
       "7     110                       191 St  40.855225 -73.929412       M   \n",
       "8     111                       181 St  40.849505 -73.933596       M   \n",
       "9     112      168 St - Washington Hts  40.840556 -73.940133       M   \n",
       "\n",
       "  Daytime Routes  \n",
       "0              1  \n",
       "1              1  \n",
       "2              1  \n",
       "3              1  \n",
       "4              1  \n",
       "5              1  \n",
       "6              1  \n",
       "7              1  \n",
       "8              1  \n",
       "9              1  "
      ]
     },
     "execution_count": 332,
     "metadata": {},
     "output_type": "execute_result"
    }
   ],
   "source": [
    "st.head(10)"
   ]
  },
  {
   "cell_type": "code",
   "execution_count": 342,
   "metadata": {
    "collapsed": false
   },
   "outputs": [
    {
     "data": {
      "text/html": [
       "<div>\n",
       "<style>\n",
       "    .dataframe thead tr:only-child th {\n",
       "        text-align: right;\n",
       "    }\n",
       "\n",
       "    .dataframe thead th {\n",
       "        text-align: left;\n",
       "    }\n",
       "\n",
       "    .dataframe tbody tr th {\n",
       "        vertical-align: top;\n",
       "    }\n",
       "</style>\n",
       "<table border=\"1\" class=\"dataframe\">\n",
       "  <thead>\n",
       "    <tr style=\"text-align: right;\">\n",
       "      <th></th>\n",
       "      <th>stop_id</th>\n",
       "      <th>stop_name</th>\n",
       "      <th>stop_lat</th>\n",
       "      <th>stop_lon</th>\n",
       "      <th>Borough</th>\n",
       "      <th>Daytime Routes</th>\n",
       "    </tr>\n",
       "  </thead>\n",
       "  <tbody>\n",
       "    <tr>\n",
       "      <th>24</th>\n",
       "      <td>127</td>\n",
       "      <td>Times Sq - 42 St</td>\n",
       "      <td>40.755290</td>\n",
       "      <td>-73.987495</td>\n",
       "      <td>M</td>\n",
       "      <td>1 2 3</td>\n",
       "    </tr>\n",
       "    <tr>\n",
       "      <th>174</th>\n",
       "      <td>725</td>\n",
       "      <td>Times Sq - 42 St</td>\n",
       "      <td>40.755477</td>\n",
       "      <td>-73.987691</td>\n",
       "      <td>M</td>\n",
       "      <td>7</td>\n",
       "    </tr>\n",
       "    <tr>\n",
       "      <th>177</th>\n",
       "      <td>902</td>\n",
       "      <td>Times Sq - 42 St</td>\n",
       "      <td>40.755983</td>\n",
       "      <td>-73.986229</td>\n",
       "      <td>M</td>\n",
       "      <td>S</td>\n",
       "    </tr>\n",
       "    <tr>\n",
       "      <th>444</th>\n",
       "      <td>R16</td>\n",
       "      <td>Times Sq - 42 St</td>\n",
       "      <td>40.754672</td>\n",
       "      <td>-73.986754</td>\n",
       "      <td>M</td>\n",
       "      <td>N Q R W</td>\n",
       "    </tr>\n",
       "  </tbody>\n",
       "</table>\n",
       "</div>"
      ],
      "text/plain": [
       "    stop_id         stop_name   stop_lat   stop_lon Borough Daytime Routes\n",
       "24      127  Times Sq - 42 St  40.755290 -73.987495       M          1 2 3\n",
       "174     725  Times Sq - 42 St  40.755477 -73.987691       M              7\n",
       "177     902  Times Sq - 42 St  40.755983 -73.986229       M              S\n",
       "444     R16  Times Sq - 42 St  40.754672 -73.986754       M        N Q R W"
      ]
     },
     "execution_count": 342,
     "metadata": {},
     "output_type": "execute_result"
    }
   ],
   "source": [
    "stops[stops['stop_name']=='Times Sq - 42 St']"
   ]
  },
  {
   "cell_type": "markdown",
   "metadata": {
    "collapsed": true
   },
   "source": [
    "#### stop_id is the unique id for each node. Each track at each station has one single node. For example, Time Sq - 42 St, has 4 tracks, and 4 nodes as above."
   ]
  }
 ],
 "metadata": {
  "kernelspec": {
   "display_name": "Python [conda root]",
   "language": "python",
   "name": "conda-root-py"
  },
  "language_info": {
   "codemirror_mode": {
    "name": "ipython",
    "version": 2
   },
   "file_extension": ".py",
   "mimetype": "text/x-python",
   "name": "python",
   "nbconvert_exporter": "python",
   "pygments_lexer": "ipython2",
   "version": "2.7.12"
  }
 },
 "nbformat": 4,
 "nbformat_minor": 2
}
